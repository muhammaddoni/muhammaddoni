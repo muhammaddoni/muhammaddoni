{
 "cells": [
  {
   "cell_type": "markdown",
   "metadata": {},
   "source": [
    "jenis-jenis matriks"
   ]
  },
  {
   "cell_type": "raw",
   "metadata": {},
   "source": []
  },
  {
   "cell_type": "markdown",
   "metadata": {},
   "source": [
    "    matriks Bujur sangkar -> matriks yang jumlah BARISNYA sama dengan jumlah KOLOMNYA"
   ]
  },
  {
   "cell_type": "code",
   "execution_count": 60,
   "metadata": {},
   "outputs": [
    {
     "name": "stdout",
     "output_type": "stream",
     "text": [
      "[[2, 4, 6], [3, 1, 2]]\n"
     ]
    }
   ],
   "source": [
    "#matriks yang bernama BS memiliki ordo 3x2 dengan diagonal a11 dan a22, dan a11=2 a22=1\n",
    "#dan bisa disebut matriks diagonal jika element diagonalnya bernilai tidak nol\n",
    "BS = [[2, 4, 6], #baris.\n",
    "     [3, 1, 2]] #kolom.\n",
    "print(BS)"
   ]
  },
  {
   "cell_type": "code",
   "execution_count": null,
   "metadata": {},
   "outputs": [],
   "source": []
  },
  {
   "cell_type": "markdown",
   "metadata": {},
   "source": [
    "Matriks NOL, matriks yang semua nilainya bernilai nol"
   ]
  },
  {
   "cell_type": "code",
   "execution_count": 61,
   "metadata": {},
   "outputs": [
    {
     "data": {
      "text/plain": [
       "[[0, 0, 0], [0, 0, 0]]"
      ]
     },
     "execution_count": 61,
     "metadata": {},
     "output_type": "execute_result"
    }
   ],
   "source": [
    "N = [[0, 0, 0], [0, 0, 0]]\n",
    "N"
   ]
  },
  {
   "cell_type": "code",
   "execution_count": null,
   "metadata": {},
   "outputs": [],
   "source": []
  },
  {
   "cell_type": "markdown",
   "metadata": {},
   "source": [
    "MATRIKS SKALAR -> MATRIKS diagonal yang semua komponen diagonal utamanya merupakan bilangan yang SAMA. jika komponen utamanya 1,\n",
    "maka matriks trsbt yaitu matriks identitas"
   ]
  },
  {
   "cell_type": "code",
   "execution_count": 62,
   "metadata": {},
   "outputs": [
    {
     "data": {
      "text/plain": [
       "[[3, 4, 5], [2, 3, 2], [2, 2, 3]]"
      ]
     },
     "execution_count": 62,
     "metadata": {},
     "output_type": "execute_result"
    }
   ],
   "source": [
    "MS = [[3, 4, 5],\n",
    "      [2, 3, 2],\n",
    "      [2, 2, 3]]\n",
    "MS"
   ]
  },
  {
   "cell_type": "markdown",
   "metadata": {},
   "source": [
    "matriks IDENTITAS"
   ]
  },
  {
   "cell_type": "code",
   "execution_count": 63,
   "metadata": {},
   "outputs": [],
   "source": [
    "MI = [[1, 0, 0],\n",
    "      [0, 1, 0],\n",
    "      [0, 0, 1]]"
   ]
  },
  {
   "cell_type": "code",
   "execution_count": null,
   "metadata": {},
   "outputs": [],
   "source": []
  },
  {
   "cell_type": "code",
   "execution_count": null,
   "metadata": {},
   "outputs": [],
   "source": []
  },
  {
   "cell_type": "code",
   "execution_count": 64,
   "metadata": {},
   "outputs": [],
   "source": [
    "A = [[1, 4],\n",
    "     [1, 5],\n",
    "     [2, 2]]"
   ]
  },
  {
   "cell_type": "code",
   "execution_count": 66,
   "metadata": {
    "scrolled": true
   },
   "outputs": [
    {
     "name": "stdout",
     "output_type": "stream",
     "text": [
      "1 16 1 25 4 4 "
     ]
    }
   ],
   "source": [
    "for x in range(0, len(A)):\n",
    "    for y in range(0, len(A[0])):\n",
    "        print(A[x][y] * A[x][y], end=' '),\n",
    "    print"
   ]
  }
 ],
 "metadata": {
  "kernelspec": {
   "display_name": "Python 3",
   "language": "python",
   "name": "python3"
  },
  "language_info": {
   "codemirror_mode": {
    "name": "ipython",
    "version": 3
   },
   "file_extension": ".py",
   "mimetype": "text/x-python",
   "name": "python",
   "nbconvert_exporter": "python",
   "pygments_lexer": "ipython3",
   "version": "3.7.6"
  }
 },
 "nbformat": 4,
 "nbformat_minor": 4
}
