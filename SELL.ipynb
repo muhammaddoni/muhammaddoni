{
 "cells": [
  {
   "cell_type": "markdown",
   "metadata": {},
   "source": [
    "1. mengimport perpustakaan pandas untuk membuka data 'SELL' dalam bentuk csv. kenapa harus mengimport perpustakaan ini, karena jawaban yang paling sederhana yaitu fungsi read_csv hanya ada pada di library pandas ->  python modules can get acces to code from another module by importing the file; function using import. the import statments is the most common way of invoking the import machinery, but it is not the only way."
   ]
  },
  {
   "cell_type": "code",
   "execution_count": 1,
   "metadata": {},
   "outputs": [],
   "source": [
    "import pandas as pd"
   ]
  },
  {
   "cell_type": "markdown",
   "metadata": {},
   "source": [
    "2. membuat sebuah variabel bernama sl, dan variabel sl memiliki nilai 'pd.read_csv('nama file')'. function ini berguna untuk membuka sebuah file extension csv. \n",
    "3. sl.head -> function ini mengembalikkan banyaknya data pada baris pertama di data tersebut\n",
    "4. sl.tail -> function ini mengembalikkan banyaknya data pada baris terakhir di data tersebut"
   ]
  },
  {
   "cell_type": "code",
   "execution_count": 2,
   "metadata": {},
   "outputs": [
    {
     "data": {
      "text/html": [
       "<div>\n",
       "<style scoped>\n",
       "    .dataframe tbody tr th:only-of-type {\n",
       "        vertical-align: middle;\n",
       "    }\n",
       "\n",
       "    .dataframe tbody tr th {\n",
       "        vertical-align: top;\n",
       "    }\n",
       "\n",
       "    .dataframe thead th {\n",
       "        text-align: right;\n",
       "    }\n",
       "</style>\n",
       "<table border=\"1\" class=\"dataframe\">\n",
       "  <thead>\n",
       "    <tr style=\"text-align: right;\">\n",
       "      <th></th>\n",
       "      <th>store_id</th>\n",
       "      <th>item_id</th>\n",
       "      <th>wm_yr_wk</th>\n",
       "      <th>sell_price</th>\n",
       "    </tr>\n",
       "  </thead>\n",
       "  <tbody>\n",
       "    <tr>\n",
       "      <th>0</th>\n",
       "      <td>CA_1</td>\n",
       "      <td>HOBBIES_1_001</td>\n",
       "      <td>11325</td>\n",
       "      <td>9.58</td>\n",
       "    </tr>\n",
       "    <tr>\n",
       "      <th>1</th>\n",
       "      <td>CA_1</td>\n",
       "      <td>HOBBIES_1_001</td>\n",
       "      <td>11326</td>\n",
       "      <td>9.58</td>\n",
       "    </tr>\n",
       "    <tr>\n",
       "      <th>2</th>\n",
       "      <td>CA_1</td>\n",
       "      <td>HOBBIES_1_001</td>\n",
       "      <td>11327</td>\n",
       "      <td>8.26</td>\n",
       "    </tr>\n",
       "    <tr>\n",
       "      <th>3</th>\n",
       "      <td>CA_1</td>\n",
       "      <td>HOBBIES_1_001</td>\n",
       "      <td>11328</td>\n",
       "      <td>8.26</td>\n",
       "    </tr>\n",
       "    <tr>\n",
       "      <th>4</th>\n",
       "      <td>CA_1</td>\n",
       "      <td>HOBBIES_1_001</td>\n",
       "      <td>11329</td>\n",
       "      <td>8.26</td>\n",
       "    </tr>\n",
       "  </tbody>\n",
       "</table>\n",
       "</div>"
      ],
      "text/plain": [
       "  store_id        item_id  wm_yr_wk  sell_price\n",
       "0     CA_1  HOBBIES_1_001     11325        9.58\n",
       "1     CA_1  HOBBIES_1_001     11326        9.58\n",
       "2     CA_1  HOBBIES_1_001     11327        8.26\n",
       "3     CA_1  HOBBIES_1_001     11328        8.26\n",
       "4     CA_1  HOBBIES_1_001     11329        8.26"
      ]
     },
     "execution_count": 2,
     "metadata": {},
     "output_type": "execute_result"
    }
   ],
   "source": [
    "sl = pd.read_csv('sell_prices.csv')\n",
    "sl.head()"
   ]
  },
  {
   "cell_type": "code",
   "execution_count": 3,
   "metadata": {},
   "outputs": [
    {
     "data": {
      "text/html": [
       "<div>\n",
       "<style scoped>\n",
       "    .dataframe tbody tr th:only-of-type {\n",
       "        vertical-align: middle;\n",
       "    }\n",
       "\n",
       "    .dataframe tbody tr th {\n",
       "        vertical-align: top;\n",
       "    }\n",
       "\n",
       "    .dataframe thead th {\n",
       "        text-align: right;\n",
       "    }\n",
       "</style>\n",
       "<table border=\"1\" class=\"dataframe\">\n",
       "  <thead>\n",
       "    <tr style=\"text-align: right;\">\n",
       "      <th></th>\n",
       "      <th>store_id</th>\n",
       "      <th>item_id</th>\n",
       "      <th>wm_yr_wk</th>\n",
       "      <th>sell_price</th>\n",
       "    </tr>\n",
       "  </thead>\n",
       "  <tbody>\n",
       "    <tr>\n",
       "      <th>6841116</th>\n",
       "      <td>WI_3</td>\n",
       "      <td>FOODS_3_827</td>\n",
       "      <td>11617</td>\n",
       "      <td>1.0</td>\n",
       "    </tr>\n",
       "    <tr>\n",
       "      <th>6841117</th>\n",
       "      <td>WI_3</td>\n",
       "      <td>FOODS_3_827</td>\n",
       "      <td>11618</td>\n",
       "      <td>1.0</td>\n",
       "    </tr>\n",
       "    <tr>\n",
       "      <th>6841118</th>\n",
       "      <td>WI_3</td>\n",
       "      <td>FOODS_3_827</td>\n",
       "      <td>11619</td>\n",
       "      <td>1.0</td>\n",
       "    </tr>\n",
       "    <tr>\n",
       "      <th>6841119</th>\n",
       "      <td>WI_3</td>\n",
       "      <td>FOODS_3_827</td>\n",
       "      <td>11620</td>\n",
       "      <td>1.0</td>\n",
       "    </tr>\n",
       "    <tr>\n",
       "      <th>6841120</th>\n",
       "      <td>WI_3</td>\n",
       "      <td>FOODS_3_827</td>\n",
       "      <td>11621</td>\n",
       "      <td>1.0</td>\n",
       "    </tr>\n",
       "  </tbody>\n",
       "</table>\n",
       "</div>"
      ],
      "text/plain": [
       "        store_id      item_id  wm_yr_wk  sell_price\n",
       "6841116     WI_3  FOODS_3_827     11617         1.0\n",
       "6841117     WI_3  FOODS_3_827     11618         1.0\n",
       "6841118     WI_3  FOODS_3_827     11619         1.0\n",
       "6841119     WI_3  FOODS_3_827     11620         1.0\n",
       "6841120     WI_3  FOODS_3_827     11621         1.0"
      ]
     },
     "execution_count": 3,
     "metadata": {},
     "output_type": "execute_result"
    }
   ],
   "source": [
    "sl.tail()"
   ]
  },
  {
   "cell_type": "markdown",
   "metadata": {},
   "source": [
    "mencari tau tentang jenis tipe data apa saja yang ada di file csv 'sell' ini\n",
    "sl.info()"
   ]
  },
  {
   "cell_type": "code",
   "execution_count": 4,
   "metadata": {},
   "outputs": [
    {
     "name": "stdout",
     "output_type": "stream",
     "text": [
      "<class 'pandas.core.frame.DataFrame'>\n",
      "RangeIndex: 6841121 entries, 0 to 6841120\n",
      "Data columns (total 4 columns):\n",
      " #   Column      Dtype  \n",
      "---  ------      -----  \n",
      " 0   store_id    object \n",
      " 1   item_id     object \n",
      " 2   wm_yr_wk    int64  \n",
      " 3   sell_price  float64\n",
      "dtypes: float64(1), int64(1), object(2)\n",
      "memory usage: 208.8+ MB\n"
     ]
    }
   ],
   "source": [
    "\n",
    "sl.info()"
   ]
  },
  {
   "cell_type": "markdown",
   "metadata": {},
   "source": [
    "mencari tau kolom mana saja yang nilainya Non A Number"
   ]
  },
  {
   "cell_type": "code",
   "execution_count": 5,
   "metadata": {},
   "outputs": [
    {
     "name": "stdout",
     "output_type": "stream",
     "text": [
      "            0\n",
      "store_id    0\n",
      "item_id     0\n",
      "wm_yr_wk    0\n",
      "sell_price  0\n"
     ]
    }
   ],
   "source": [
    "na = sl.isna().sum()\n",
    "print(pd.DataFrame(na))"
   ]
  },
  {
   "cell_type": "code",
   "execution_count": 6,
   "metadata": {},
   "outputs": [
    {
     "data": {
      "text/plain": [
       "Index(['store_id', 'item_id', 'wm_yr_wk', 'sell_price'], dtype='object')"
      ]
     },
     "execution_count": 6,
     "metadata": {},
     "output_type": "execute_result"
    }
   ],
   "source": [
    "sl.columns"
   ]
  },
  {
   "cell_type": "markdown",
   "metadata": {},
   "source": [
    "karena nilai di dalam data sell ini ada sekian 6 juta, maka untuk memotong data tersbut ketika di run tidak error karena 'out of space' maka dilakukan slicing"
   ]
  },
  {
   "cell_type": "code",
   "execution_count": 7,
   "metadata": {},
   "outputs": [
    {
     "data": {
      "text/html": [
       "<div>\n",
       "<style scoped>\n",
       "    .dataframe tbody tr th:only-of-type {\n",
       "        vertical-align: middle;\n",
       "    }\n",
       "\n",
       "    .dataframe tbody tr th {\n",
       "        vertical-align: top;\n",
       "    }\n",
       "\n",
       "    .dataframe thead th {\n",
       "        text-align: right;\n",
       "    }\n",
       "</style>\n",
       "<table border=\"1\" class=\"dataframe\">\n",
       "  <thead>\n",
       "    <tr style=\"text-align: right;\">\n",
       "      <th></th>\n",
       "      <th>store_id</th>\n",
       "      <th>item_id</th>\n",
       "      <th>wm_yr_wk</th>\n",
       "      <th>sell_price</th>\n",
       "    </tr>\n",
       "  </thead>\n",
       "  <tbody>\n",
       "    <tr>\n",
       "      <th>0</th>\n",
       "      <td>CA_1</td>\n",
       "      <td>HOBBIES_1_001</td>\n",
       "      <td>11325</td>\n",
       "      <td>9.58</td>\n",
       "    </tr>\n",
       "    <tr>\n",
       "      <th>1</th>\n",
       "      <td>CA_1</td>\n",
       "      <td>HOBBIES_1_001</td>\n",
       "      <td>11326</td>\n",
       "      <td>9.58</td>\n",
       "    </tr>\n",
       "    <tr>\n",
       "      <th>2</th>\n",
       "      <td>CA_1</td>\n",
       "      <td>HOBBIES_1_001</td>\n",
       "      <td>11327</td>\n",
       "      <td>8.26</td>\n",
       "    </tr>\n",
       "    <tr>\n",
       "      <th>3</th>\n",
       "      <td>CA_1</td>\n",
       "      <td>HOBBIES_1_001</td>\n",
       "      <td>11328</td>\n",
       "      <td>8.26</td>\n",
       "    </tr>\n",
       "    <tr>\n",
       "      <th>4</th>\n",
       "      <td>CA_1</td>\n",
       "      <td>HOBBIES_1_001</td>\n",
       "      <td>11329</td>\n",
       "      <td>8.26</td>\n",
       "    </tr>\n",
       "    <tr>\n",
       "      <th>...</th>\n",
       "      <td>...</td>\n",
       "      <td>...</td>\n",
       "      <td>...</td>\n",
       "      <td>...</td>\n",
       "    </tr>\n",
       "    <tr>\n",
       "      <th>295</th>\n",
       "      <td>CA_1</td>\n",
       "      <td>HOBBIES_1_002</td>\n",
       "      <td>11405</td>\n",
       "      <td>3.97</td>\n",
       "    </tr>\n",
       "    <tr>\n",
       "      <th>296</th>\n",
       "      <td>CA_1</td>\n",
       "      <td>HOBBIES_1_002</td>\n",
       "      <td>11406</td>\n",
       "      <td>3.97</td>\n",
       "    </tr>\n",
       "    <tr>\n",
       "      <th>297</th>\n",
       "      <td>CA_1</td>\n",
       "      <td>HOBBIES_1_002</td>\n",
       "      <td>11407</td>\n",
       "      <td>3.97</td>\n",
       "    </tr>\n",
       "    <tr>\n",
       "      <th>298</th>\n",
       "      <td>CA_1</td>\n",
       "      <td>HOBBIES_1_002</td>\n",
       "      <td>11408</td>\n",
       "      <td>3.97</td>\n",
       "    </tr>\n",
       "    <tr>\n",
       "      <th>299</th>\n",
       "      <td>CA_1</td>\n",
       "      <td>HOBBIES_1_002</td>\n",
       "      <td>11409</td>\n",
       "      <td>3.97</td>\n",
       "    </tr>\n",
       "  </tbody>\n",
       "</table>\n",
       "<p>300 rows × 4 columns</p>\n",
       "</div>"
      ],
      "text/plain": [
       "    store_id        item_id  wm_yr_wk  sell_price\n",
       "0       CA_1  HOBBIES_1_001     11325        9.58\n",
       "1       CA_1  HOBBIES_1_001     11326        9.58\n",
       "2       CA_1  HOBBIES_1_001     11327        8.26\n",
       "3       CA_1  HOBBIES_1_001     11328        8.26\n",
       "4       CA_1  HOBBIES_1_001     11329        8.26\n",
       "..       ...            ...       ...         ...\n",
       "295     CA_1  HOBBIES_1_002     11405        3.97\n",
       "296     CA_1  HOBBIES_1_002     11406        3.97\n",
       "297     CA_1  HOBBIES_1_002     11407        3.97\n",
       "298     CA_1  HOBBIES_1_002     11408        3.97\n",
       "299     CA_1  HOBBIES_1_002     11409        3.97\n",
       "\n",
       "[300 rows x 4 columns]"
      ]
     },
     "execution_count": 7,
     "metadata": {},
     "output_type": "execute_result"
    }
   ],
   "source": [
    "sl_some = sl[0:300]\n",
    "sl_some"
   ]
  },
  {
   "cell_type": "markdown",
   "metadata": {},
   "source": [
    "dalam data ini kan ada 4 kolom, melalui function 'drop' ini mengeleminasi beberap kolom yang menjadi objek, dan sekaligus variabel 'X' ini menjadi prediktor"
   ]
  },
  {
   "cell_type": "code",
   "execution_count": 8,
   "metadata": {},
   "outputs": [
    {
     "data": {
      "text/html": [
       "<div>\n",
       "<style scoped>\n",
       "    .dataframe tbody tr th:only-of-type {\n",
       "        vertical-align: middle;\n",
       "    }\n",
       "\n",
       "    .dataframe tbody tr th {\n",
       "        vertical-align: top;\n",
       "    }\n",
       "\n",
       "    .dataframe thead th {\n",
       "        text-align: right;\n",
       "    }\n",
       "</style>\n",
       "<table border=\"1\" class=\"dataframe\">\n",
       "  <thead>\n",
       "    <tr style=\"text-align: right;\">\n",
       "      <th></th>\n",
       "      <th>wm_yr_wk</th>\n",
       "      <th>sell_price</th>\n",
       "    </tr>\n",
       "  </thead>\n",
       "  <tbody>\n",
       "    <tr>\n",
       "      <th>0</th>\n",
       "      <td>11325</td>\n",
       "      <td>9.58</td>\n",
       "    </tr>\n",
       "    <tr>\n",
       "      <th>1</th>\n",
       "      <td>11326</td>\n",
       "      <td>9.58</td>\n",
       "    </tr>\n",
       "    <tr>\n",
       "      <th>2</th>\n",
       "      <td>11327</td>\n",
       "      <td>8.26</td>\n",
       "    </tr>\n",
       "    <tr>\n",
       "      <th>3</th>\n",
       "      <td>11328</td>\n",
       "      <td>8.26</td>\n",
       "    </tr>\n",
       "    <tr>\n",
       "      <th>4</th>\n",
       "      <td>11329</td>\n",
       "      <td>8.26</td>\n",
       "    </tr>\n",
       "    <tr>\n",
       "      <th>...</th>\n",
       "      <td>...</td>\n",
       "      <td>...</td>\n",
       "    </tr>\n",
       "    <tr>\n",
       "      <th>295</th>\n",
       "      <td>11405</td>\n",
       "      <td>3.97</td>\n",
       "    </tr>\n",
       "    <tr>\n",
       "      <th>296</th>\n",
       "      <td>11406</td>\n",
       "      <td>3.97</td>\n",
       "    </tr>\n",
       "    <tr>\n",
       "      <th>297</th>\n",
       "      <td>11407</td>\n",
       "      <td>3.97</td>\n",
       "    </tr>\n",
       "    <tr>\n",
       "      <th>298</th>\n",
       "      <td>11408</td>\n",
       "      <td>3.97</td>\n",
       "    </tr>\n",
       "    <tr>\n",
       "      <th>299</th>\n",
       "      <td>11409</td>\n",
       "      <td>3.97</td>\n",
       "    </tr>\n",
       "  </tbody>\n",
       "</table>\n",
       "<p>300 rows × 2 columns</p>\n",
       "</div>"
      ],
      "text/plain": [
       "     wm_yr_wk  sell_price\n",
       "0       11325        9.58\n",
       "1       11326        9.58\n",
       "2       11327        8.26\n",
       "3       11328        8.26\n",
       "4       11329        8.26\n",
       "..        ...         ...\n",
       "295     11405        3.97\n",
       "296     11406        3.97\n",
       "297     11407        3.97\n",
       "298     11408        3.97\n",
       "299     11409        3.97\n",
       "\n",
       "[300 rows x 2 columns]"
      ]
     },
     "execution_count": 8,
     "metadata": {},
     "output_type": "execute_result"
    }
   ],
   "source": [
    "X = sl_some.drop(['store_id', 'item_id'], axis=1)\n",
    "X"
   ]
  },
  {
   "cell_type": "markdown",
   "metadata": {},
   "source": [
    "dan variabel 'y' sebagai target dari prediktor"
   ]
  },
  {
   "cell_type": "code",
   "execution_count": 9,
   "metadata": {},
   "outputs": [],
   "source": [
    "y = sl_some['item_id']"
   ]
  },
  {
   "cell_type": "markdown",
   "metadata": {},
   "source": [
    "dalam statistik, dan ML--biasanya membagi data menjadi dua subset: data pelatihan, dan data pengujian(train, dan test, tetapi juga terkadang menjadi tiga: train, memvalidasi, dan test), dan menyesuaikan model pada data TRAIN, untuk membuat PREDIKSI PADA DATA UJI"
   ]
  },
  {
   "cell_type": "markdown",
   "metadata": {},
   "source": [
    "from sklearn.model_selection import train_test_split -> mengOverfitting data"
   ]
  },
  {
   "cell_type": "code",
   "execution_count": 10,
   "metadata": {},
   "outputs": [],
   "source": [
    "from sklearn.model_selection import train_test_split"
   ]
  },
  {
   "cell_type": "code",
   "execution_count": 11,
   "metadata": {},
   "outputs": [],
   "source": [
    "import matplotlib.pyplot as plt"
   ]
  },
  {
   "cell_type": "code",
   "execution_count": 12,
   "metadata": {},
   "outputs": [],
   "source": [
    "X_train, X_test, y_train, y_test = train_test_split(X, y, test_size=0.2)"
   ]
  },
  {
   "cell_type": "markdown",
   "metadata": {},
   "source": [
    "menstandarkn fitur dg menghilangkan mean dan menskalakn ke unit varians. pemusatan, dan pen-Skalaan terjadi scr independen pada setiap fitur dengan menghitung statistik yg relevan pada sampel di set pelatihan"
   ]
  },
  {
   "cell_type": "code",
   "execution_count": 13,
   "metadata": {},
   "outputs": [
    {
     "data": {
      "text/plain": [
       "StandardScaler(copy=True, with_mean=True, with_std=True)"
      ]
     },
     "execution_count": 13,
     "metadata": {},
     "output_type": "execute_result"
    }
   ],
   "source": [
    "from sklearn.preprocessing import StandardScaler\n",
    "scaler = StandardScaler()\n",
    "scaler.fit(pd.DataFrame(X_train).tail())"
   ]
  },
  {
   "cell_type": "markdown",
   "metadata": {},
   "source": [
    "copy=true -> jika false, hindari penyalinan dan lakukan penskalaan di tempat"
   ]
  },
  {
   "cell_type": "code",
   "execution_count": 14,
   "metadata": {},
   "outputs": [
    {
     "name": "stdout",
     "output_type": "stream",
     "text": [
      "            0         1\n",
      "235 -0.628903 -1.224745\n",
      "236 -0.439284  0.816497\n",
      "237 -0.518292  0.816497\n",
      "238 -0.407681 -1.224745\n",
      "239  1.994161  0.816497\n"
     ]
    }
   ],
   "source": [
    "X_train_std = scaler.transform(X_train)\n",
    "X_test_std = scaler.transform(X_test)\n",
    "print(pd.DataFrame(X_train_std).tail())"
   ]
  },
  {
   "cell_type": "code",
   "execution_count": null,
   "metadata": {},
   "outputs": [],
   "source": []
  },
  {
   "cell_type": "markdown",
   "metadata": {},
   "source": [
    "mengimport module KNN di library sklearn"
   ]
  },
  {
   "cell_type": "code",
   "execution_count": 15,
   "metadata": {},
   "outputs": [],
   "source": [
    "from sklearn.neighbors import KNeighborsClassifier"
   ]
  },
  {
   "cell_type": "code",
   "execution_count": null,
   "metadata": {},
   "outputs": [],
   "source": []
  },
  {
   "cell_type": "code",
   "execution_count": 16,
   "metadata": {},
   "outputs": [
    {
     "name": "stdout",
     "output_type": "stream",
     "text": [
      "KNeighborsClassifier(algorithm='auto', leaf_size=30, metric='minkowski',\n",
      "                     metric_params=None, n_jobs=None, n_neighbors=4, p=2,\n",
      "                     weights='uniform')\n"
     ]
    }
   ],
   "source": [
    "knn = KNeighborsClassifier (n_neighbors=4)\n",
    "print(knn.fit(X_test_std, y_test))\n",
    "#paskan model menggunakan X_test sbg data pelatihan, dan y sebagai nilai target"
   ]
  },
  {
   "cell_type": "code",
   "execution_count": 17,
   "metadata": {},
   "outputs": [
    {
     "name": "stdout",
     "output_type": "stream",
     "text": [
      "                0\n",
      "0   HOBBIES_1_002\n",
      "1   HOBBIES_1_001\n",
      "2   HOBBIES_1_001\n",
      "3   HOBBIES_1_002\n",
      "4   HOBBIES_1_001\n",
      "5   HOBBIES_1_002\n",
      "6   HOBBIES_1_001\n",
      "7   HOBBIES_1_002\n",
      "8   HOBBIES_1_001\n",
      "9   HOBBIES_1_002\n",
      "10  HOBBIES_1_001\n",
      "11  HOBBIES_1_002\n",
      "12  HOBBIES_1_001\n",
      "13  HOBBIES_1_002\n",
      "14  HOBBIES_1_002\n",
      "15  HOBBIES_1_001\n",
      "16  HOBBIES_1_002\n",
      "17  HOBBIES_1_002\n",
      "18  HOBBIES_1_002\n",
      "19  HOBBIES_1_001\n",
      "20  HOBBIES_1_001\n",
      "21  HOBBIES_1_002\n",
      "22  HOBBIES_1_002\n",
      "23  HOBBIES_1_002\n",
      "24  HOBBIES_1_001\n",
      "25  HOBBIES_1_002\n",
      "26  HOBBIES_1_002\n",
      "27  HOBBIES_1_002\n",
      "28  HOBBIES_1_002\n",
      "29  HOBBIES_1_002\n",
      "30  HOBBIES_1_001\n",
      "31  HOBBIES_1_001\n",
      "32  HOBBIES_1_001\n",
      "33  HOBBIES_1_002\n",
      "34  HOBBIES_1_002\n",
      "35  HOBBIES_1_002\n",
      "36  HOBBIES_1_001\n",
      "37  HOBBIES_1_002\n",
      "38  HOBBIES_1_001\n",
      "39  HOBBIES_1_001\n",
      "40  HOBBIES_1_002\n",
      "41  HOBBIES_1_002\n",
      "42  HOBBIES_1_002\n",
      "43  HOBBIES_1_001\n",
      "44  HOBBIES_1_002\n",
      "45  HOBBIES_1_002\n",
      "46  HOBBIES_1_002\n",
      "47  HOBBIES_1_001\n",
      "48  HOBBIES_1_001\n",
      "49  HOBBIES_1_001\n",
      "50  HOBBIES_1_002\n",
      "51  HOBBIES_1_001\n",
      "52  HOBBIES_1_001\n",
      "53  HOBBIES_1_001\n",
      "54  HOBBIES_1_002\n",
      "55  HOBBIES_1_002\n",
      "56  HOBBIES_1_001\n",
      "57  HOBBIES_1_001\n",
      "58  HOBBIES_1_002\n",
      "59  HOBBIES_1_001\n"
     ]
    }
   ],
   "source": [
    "y_pred = knn.predict(X_test_std)\n",
    "print(pd.DataFrame(y_pred))"
   ]
  },
  {
   "cell_type": "code",
   "execution_count": 18,
   "metadata": {},
   "outputs": [
    {
     "name": "stdout",
     "output_type": "stream",
     "text": [
      "      0    1\n",
      "0   0.0  1.0\n",
      "1   1.0  0.0\n",
      "2   1.0  0.0\n",
      "3   0.0  1.0\n",
      "4   1.0  0.0\n",
      "5   0.0  1.0\n",
      "6   1.0  0.0\n",
      "7   0.0  1.0\n",
      "8   1.0  0.0\n",
      "9   0.0  1.0\n",
      "10  1.0  0.0\n",
      "11  0.0  1.0\n",
      "12  1.0  0.0\n",
      "13  0.0  1.0\n",
      "14  0.0  1.0\n",
      "15  1.0  0.0\n",
      "16  0.0  1.0\n",
      "17  0.0  1.0\n",
      "18  0.0  1.0\n",
      "19  1.0  0.0\n",
      "20  1.0  0.0\n",
      "21  0.0  1.0\n",
      "22  0.0  1.0\n",
      "23  0.0  1.0\n",
      "24  1.0  0.0\n",
      "25  0.0  1.0\n",
      "26  0.0  1.0\n",
      "27  0.0  1.0\n",
      "28  0.0  1.0\n",
      "29  0.0  1.0\n",
      "30  1.0  0.0\n",
      "31  1.0  0.0\n",
      "32  1.0  0.0\n",
      "33  0.0  1.0\n",
      "34  0.0  1.0\n",
      "35  0.0  1.0\n",
      "36  1.0  0.0\n",
      "37  0.0  1.0\n",
      "38  1.0  0.0\n",
      "39  1.0  0.0\n",
      "40  0.0  1.0\n",
      "41  0.0  1.0\n",
      "42  0.0  1.0\n",
      "43  1.0  0.0\n",
      "44  0.0  1.0\n",
      "45  0.0  1.0\n",
      "46  0.0  1.0\n",
      "47  1.0  0.0\n",
      "48  1.0  0.0\n",
      "49  1.0  0.0\n",
      "50  0.0  1.0\n",
      "51  1.0  0.0\n",
      "52  1.0  0.0\n",
      "53  1.0  0.0\n",
      "54  0.0  1.0\n",
      "55  0.0  1.0\n",
      "56  1.0  0.0\n",
      "57  1.0  0.0\n",
      "58  0.0  1.0\n",
      "59  1.0  0.0\n"
     ]
    }
   ],
   "source": [
    "pr = knn.predict_proba(X_test_std)\n",
    "print(pd.DataFrame(pr))"
   ]
  },
  {
   "cell_type": "code",
   "execution_count": 19,
   "metadata": {},
   "outputs": [],
   "source": [
    "#imprt lib untuk mlht keakuratan data prediksi dengan data aktual\n",
    "from sklearn.metrics import classification_report, confusion_matrix"
   ]
  },
  {
   "cell_type": "code",
   "execution_count": 20,
   "metadata": {},
   "outputs": [],
   "source": [
    "#menghitung confussion matrix tujuan untuk menguji/mengevaluasi keakuratan klasifikasi\n",
    "cn = confusion_matrix(y_test, y_pred)"
   ]
  },
  {
   "cell_type": "code",
   "execution_count": 21,
   "metadata": {},
   "outputs": [
    {
     "data": {
      "text/plain": [
       "<matplotlib.axes._subplots.AxesSubplot at 0x21c1bfe4648>"
      ]
     },
     "execution_count": 21,
     "metadata": {},
     "output_type": "execute_result"
    },
    {
     "data": {
      "image/png": "[encoded data removed]",
      "text/plain": [
       "<Figure size 432x360 with 2 Axes>"
      ]
     },
     "metadata": {
      "needs_background": "light"
     },
     "output_type": "display_data"
    }
   ],
   "source": [
    "import seaborn as sns\n",
    "import matplotlib.pyplot as plt\n",
    "plt.figure(figsize = (6, 5))\n",
    "sns.heatmap(cn, annot = True)"
   ]
  },
  {
   "cell_type": "code",
   "execution_count": 22,
   "metadata": {},
   "outputs": [
    {
     "name": "stdout",
     "output_type": "stream",
     "text": [
      "               precision    recall  f1-score   support\n",
      "\n",
      "HOBBIES_1_001       1.00      1.00      1.00        27\n",
      "HOBBIES_1_002       1.00      1.00      1.00        33\n",
      "\n",
      "     accuracy                           1.00        60\n",
      "    macro avg       1.00      1.00      1.00        60\n",
      " weighted avg       1.00      1.00      1.00        60\n",
      "\n"
     ]
    }
   ],
   "source": [
    "print(classification_report(y_test, y_pred))"
   ]
  },
  {
   "cell_type": "markdown",
   "metadata": {},
   "source": [
    "dari nilai ini, algoritma ML bekerja dengan baik, dan mengklasifikasikan masing2 class dengan sdikit nilai bias"
   ]
  },
  {
   "cell_type": "code",
   "execution_count": 23,
   "metadata": {},
   "outputs": [
    {
     "data": {
      "text/plain": [
       "0      HOBBIES_1_001\n",
       "1      HOBBIES_1_001\n",
       "2      HOBBIES_1_001\n",
       "3      HOBBIES_1_001\n",
       "4      HOBBIES_1_001\n",
       "           ...      \n",
       "295    HOBBIES_1_002\n",
       "296    HOBBIES_1_002\n",
       "297    HOBBIES_1_002\n",
       "298    HOBBIES_1_002\n",
       "299    HOBBIES_1_002\n",
       "Name: item_id, Length: 300, dtype: object"
      ]
     },
     "execution_count": 23,
     "metadata": {},
     "output_type": "execute_result"
    }
   ],
   "source": [
    "y"
   ]
  },
  {
   "cell_type": "code",
   "execution_count": 24,
   "metadata": {},
   "outputs": [
    {
     "data": {
      "text/plain": [
       "Index(['wm_yr_wk', 'sell_price'], dtype='object')"
      ]
     },
     "execution_count": 24,
     "metadata": {},
     "output_type": "execute_result"
    }
   ],
   "source": [
    "X.columns"
   ]
  },
  {
   "cell_type": "code",
   "execution_count": 25,
   "metadata": {},
   "outputs": [
    {
     "data": {
      "text/plain": [
       "Index(['wm_yr_wk'], dtype='object')"
      ]
     },
     "execution_count": 25,
     "metadata": {},
     "output_type": "execute_result"
    }
   ],
   "source": [
    "x = pd.DataFrame(X['wm_yr_wk'])\n",
    "x.columns"
   ]
  },
  {
   "cell_type": "code",
   "execution_count": 26,
   "metadata": {},
   "outputs": [
    {
     "ename": "AttributeError",
     "evalue": "'Series' object has no attribute 'info'",
     "output_type": "error",
     "traceback": [
      "\u001b[1;31m---------------------------------------------------------------------------\u001b[0m",
      "\u001b[1;31mAttributeError\u001b[0m                            Traceback (most recent call last)",
      "\u001b[1;32m<ipython-input-26-f75f9ed05036>\u001b[0m in \u001b[0;36m<module>\u001b[1;34m\u001b[0m\n\u001b[1;32m----> 1\u001b[1;33m \u001b[0my\u001b[0m\u001b[1;33m.\u001b[0m\u001b[0minfo\u001b[0m\u001b[1;33m(\u001b[0m\u001b[1;33m)\u001b[0m\u001b[1;33m\u001b[0m\u001b[1;33m\u001b[0m\u001b[0m\n\u001b[0m",
      "\u001b[1;32m~\\anaconda3\\lib\\site-packages\\pandas\\core\\generic.py\u001b[0m in \u001b[0;36m__getattr__\u001b[1;34m(self, name)\u001b[0m\n\u001b[0;32m   5272\u001b[0m             \u001b[1;32mif\u001b[0m \u001b[0mself\u001b[0m\u001b[1;33m.\u001b[0m\u001b[0m_info_axis\u001b[0m\u001b[1;33m.\u001b[0m\u001b[0m_can_hold_identifiers_and_holds_name\u001b[0m\u001b[1;33m(\u001b[0m\u001b[0mname\u001b[0m\u001b[1;33m)\u001b[0m\u001b[1;33m:\u001b[0m\u001b[1;33m\u001b[0m\u001b[1;33m\u001b[0m\u001b[0m\n\u001b[0;32m   5273\u001b[0m                 \u001b[1;32mreturn\u001b[0m \u001b[0mself\u001b[0m\u001b[1;33m[\u001b[0m\u001b[0mname\u001b[0m\u001b[1;33m]\u001b[0m\u001b[1;33m\u001b[0m\u001b[1;33m\u001b[0m\u001b[0m\n\u001b[1;32m-> 5274\u001b[1;33m             \u001b[1;32mreturn\u001b[0m \u001b[0mobject\u001b[0m\u001b[1;33m.\u001b[0m\u001b[0m__getattribute__\u001b[0m\u001b[1;33m(\u001b[0m\u001b[0mself\u001b[0m\u001b[1;33m,\u001b[0m \u001b[0mname\u001b[0m\u001b[1;33m)\u001b[0m\u001b[1;33m\u001b[0m\u001b[1;33m\u001b[0m\u001b[0m\n\u001b[0m\u001b[0;32m   5275\u001b[0m \u001b[1;33m\u001b[0m\u001b[0m\n\u001b[0;32m   5276\u001b[0m     \u001b[1;32mdef\u001b[0m \u001b[0m__setattr__\u001b[0m\u001b[1;33m(\u001b[0m\u001b[0mself\u001b[0m\u001b[1;33m,\u001b[0m \u001b[0mname\u001b[0m\u001b[1;33m:\u001b[0m \u001b[0mstr\u001b[0m\u001b[1;33m,\u001b[0m \u001b[0mvalue\u001b[0m\u001b[1;33m)\u001b[0m \u001b[1;33m->\u001b[0m \u001b[1;32mNone\u001b[0m\u001b[1;33m:\u001b[0m\u001b[1;33m\u001b[0m\u001b[1;33m\u001b[0m\u001b[0m\n",
      "\u001b[1;31mAttributeError\u001b[0m: 'Series' object has no attribute 'info'"
     ]
    }
   ],
   "source": [
    "y.info()"
   ]
  },
  {
   "cell_type": "code",
   "execution_count": null,
   "metadata": {},
   "outputs": [],
   "source": []
  },
  {
   "cell_type": "code",
   "execution_count": null,
   "metadata": {},
   "outputs": [],
   "source": []
  }
 ],
 "metadata": {
  "kernelspec": {
   "display_name": "Python 3",
   "language": "python",
   "name": "python3"
  }
 },
 "nbformat": 4,
 "nbformat_minor": 4
}
