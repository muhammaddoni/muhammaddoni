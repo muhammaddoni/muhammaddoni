{
 "cells": [
  {
   "cell_type": "code",
   "execution_count": 1,
   "metadata": {},
   "outputs": [],
   "source": [
    "import pandas as pd\n",
    "import matplotlib.pyplot as plt\n",
    "from scipy import stats\n",
    "\n",
    "import numpy as np\n",
    "from scipy.stats import binom\n",
    "import seaborn as sb\n",
    "from numpy import random\n",
    "import seaborn as sns\n",
    "from scipy.stats import binom\n",
    "%matplotlib inline"
   ]
  },
  {
   "cell_type": "code",
   "execution_count": 3,
   "metadata": {},
   "outputs": [
    {
     "name": "stdout",
     "output_type": "stream",
     "text": [
      "<class 'pandas.core.frame.DataFrame'>\n",
      "RangeIndex: 414 entries, 0 to 413\n",
      "Data columns (total 8 columns):\n",
      " #   Column                                  Non-Null Count  Dtype  \n",
      "---  ------                                  --------------  -----  \n",
      " 0   No                                      414 non-null    int64  \n",
      " 1   X1 transaction date                     414 non-null    float64\n",
      " 2   X2 house age                            414 non-null    float64\n",
      " 3   X3 distance to the nearest MRT station  414 non-null    float64\n",
      " 4   X4 number of convenience stores         414 non-null    int64  \n",
      " 5   X5 latitude                             414 non-null    float64\n",
      " 6   X6 longitude                            414 non-null    float64\n",
      " 7   Y house price of unit area              414 non-null    float64\n",
      "dtypes: float64(6), int64(2)\n",
      "memory usage: 26.0 KB\n"
     ]
    }
   ],
   "source": [
    "ln.info()"
   ]
  },
  {
   "cell_type": "code",
   "execution_count": 4,
   "metadata": {},
   "outputs": [
    {
     "data": {
      "text/plain": [
       "(414, 8)"
      ]
     },
     "execution_count": 4,
     "metadata": {},
     "output_type": "execute_result"
    }
   ],
   "source": [
    "#bentuk ada 414 baris, dan 8 kolom \n",
    "ln.shape"
   ]
  },
  {
   "cell_type": "code",
   "execution_count": 2,
   "metadata": {},
   "outputs": [
    {
     "data": {
      "text/html": [
       "<div>\n",
       "<style scoped>\n",
       "    .dataframe tbody tr th:only-of-type {\n",
       "        vertical-align: middle;\n",
       "    }\n",
       "\n",
       "    .dataframe tbody tr th {\n",
       "        vertical-align: top;\n",
       "    }\n",
       "\n",
       "    .dataframe thead th {\n",
       "        text-align: right;\n",
       "    }\n",
       "</style>\n",
       "<table border=\"1\" class=\"dataframe\">\n",
       "  <thead>\n",
       "    <tr style=\"text-align: right;\">\n",
       "      <th></th>\n",
       "      <th>No</th>\n",
       "      <th>X1 transaction date</th>\n",
       "      <th>X2 house age</th>\n",
       "      <th>X3 distance to the nearest MRT station</th>\n",
       "      <th>X4 number of convenience stores</th>\n",
       "      <th>X5 latitude</th>\n",
       "      <th>X6 longitude</th>\n",
       "      <th>Y house price of unit area</th>\n",
       "    </tr>\n",
       "  </thead>\n",
       "  <tbody>\n",
       "    <tr>\n",
       "      <th>0</th>\n",
       "      <td>1</td>\n",
       "      <td>2012.917</td>\n",
       "      <td>32.0</td>\n",
       "      <td>84.87882</td>\n",
       "      <td>10</td>\n",
       "      <td>24.98298</td>\n",
       "      <td>121.54024</td>\n",
       "      <td>37.9</td>\n",
       "    </tr>\n",
       "    <tr>\n",
       "      <th>1</th>\n",
       "      <td>2</td>\n",
       "      <td>2012.917</td>\n",
       "      <td>19.5</td>\n",
       "      <td>306.59470</td>\n",
       "      <td>9</td>\n",
       "      <td>24.98034</td>\n",
       "      <td>121.53951</td>\n",
       "      <td>42.2</td>\n",
       "    </tr>\n",
       "    <tr>\n",
       "      <th>2</th>\n",
       "      <td>3</td>\n",
       "      <td>2013.583</td>\n",
       "      <td>13.3</td>\n",
       "      <td>561.98450</td>\n",
       "      <td>5</td>\n",
       "      <td>24.98746</td>\n",
       "      <td>121.54391</td>\n",
       "      <td>47.3</td>\n",
       "    </tr>\n",
       "    <tr>\n",
       "      <th>3</th>\n",
       "      <td>4</td>\n",
       "      <td>2013.500</td>\n",
       "      <td>13.3</td>\n",
       "      <td>561.98450</td>\n",
       "      <td>5</td>\n",
       "      <td>24.98746</td>\n",
       "      <td>121.54391</td>\n",
       "      <td>54.8</td>\n",
       "    </tr>\n",
       "    <tr>\n",
       "      <th>4</th>\n",
       "      <td>5</td>\n",
       "      <td>2012.833</td>\n",
       "      <td>5.0</td>\n",
       "      <td>390.56840</td>\n",
       "      <td>5</td>\n",
       "      <td>24.97937</td>\n",
       "      <td>121.54245</td>\n",
       "      <td>43.1</td>\n",
       "    </tr>\n",
       "    <tr>\n",
       "      <th>5</th>\n",
       "      <td>6</td>\n",
       "      <td>2012.667</td>\n",
       "      <td>7.1</td>\n",
       "      <td>2175.03000</td>\n",
       "      <td>3</td>\n",
       "      <td>24.96305</td>\n",
       "      <td>121.51254</td>\n",
       "      <td>32.1</td>\n",
       "    </tr>\n",
       "    <tr>\n",
       "      <th>6</th>\n",
       "      <td>7</td>\n",
       "      <td>2012.667</td>\n",
       "      <td>34.5</td>\n",
       "      <td>623.47310</td>\n",
       "      <td>7</td>\n",
       "      <td>24.97933</td>\n",
       "      <td>121.53642</td>\n",
       "      <td>40.3</td>\n",
       "    </tr>\n",
       "    <tr>\n",
       "      <th>7</th>\n",
       "      <td>8</td>\n",
       "      <td>2013.417</td>\n",
       "      <td>20.3</td>\n",
       "      <td>287.60250</td>\n",
       "      <td>6</td>\n",
       "      <td>24.98042</td>\n",
       "      <td>121.54228</td>\n",
       "      <td>46.7</td>\n",
       "    </tr>\n",
       "    <tr>\n",
       "      <th>8</th>\n",
       "      <td>9</td>\n",
       "      <td>2013.500</td>\n",
       "      <td>31.7</td>\n",
       "      <td>5512.03800</td>\n",
       "      <td>1</td>\n",
       "      <td>24.95095</td>\n",
       "      <td>121.48458</td>\n",
       "      <td>18.8</td>\n",
       "    </tr>\n",
       "    <tr>\n",
       "      <th>9</th>\n",
       "      <td>10</td>\n",
       "      <td>2013.417</td>\n",
       "      <td>17.9</td>\n",
       "      <td>1783.18000</td>\n",
       "      <td>3</td>\n",
       "      <td>24.96731</td>\n",
       "      <td>121.51486</td>\n",
       "      <td>22.1</td>\n",
       "    </tr>\n",
       "    <tr>\n",
       "      <th>10</th>\n",
       "      <td>11</td>\n",
       "      <td>2013.083</td>\n",
       "      <td>34.8</td>\n",
       "      <td>405.21340</td>\n",
       "      <td>1</td>\n",
       "      <td>24.97349</td>\n",
       "      <td>121.53372</td>\n",
       "      <td>41.4</td>\n",
       "    </tr>\n",
       "    <tr>\n",
       "      <th>11</th>\n",
       "      <td>12</td>\n",
       "      <td>2013.333</td>\n",
       "      <td>6.3</td>\n",
       "      <td>90.45606</td>\n",
       "      <td>9</td>\n",
       "      <td>24.97433</td>\n",
       "      <td>121.54310</td>\n",
       "      <td>58.1</td>\n",
       "    </tr>\n",
       "    <tr>\n",
       "      <th>12</th>\n",
       "      <td>13</td>\n",
       "      <td>2012.917</td>\n",
       "      <td>13.0</td>\n",
       "      <td>492.23130</td>\n",
       "      <td>5</td>\n",
       "      <td>24.96515</td>\n",
       "      <td>121.53737</td>\n",
       "      <td>39.3</td>\n",
       "    </tr>\n",
       "    <tr>\n",
       "      <th>13</th>\n",
       "      <td>14</td>\n",
       "      <td>2012.667</td>\n",
       "      <td>20.4</td>\n",
       "      <td>2469.64500</td>\n",
       "      <td>4</td>\n",
       "      <td>24.96108</td>\n",
       "      <td>121.51046</td>\n",
       "      <td>23.8</td>\n",
       "    </tr>\n",
       "    <tr>\n",
       "      <th>14</th>\n",
       "      <td>15</td>\n",
       "      <td>2013.500</td>\n",
       "      <td>13.2</td>\n",
       "      <td>1164.83800</td>\n",
       "      <td>4</td>\n",
       "      <td>24.99156</td>\n",
       "      <td>121.53406</td>\n",
       "      <td>34.3</td>\n",
       "    </tr>\n",
       "    <tr>\n",
       "      <th>15</th>\n",
       "      <td>16</td>\n",
       "      <td>2013.583</td>\n",
       "      <td>35.7</td>\n",
       "      <td>579.20830</td>\n",
       "      <td>2</td>\n",
       "      <td>24.98240</td>\n",
       "      <td>121.54619</td>\n",
       "      <td>50.5</td>\n",
       "    </tr>\n",
       "    <tr>\n",
       "      <th>16</th>\n",
       "      <td>17</td>\n",
       "      <td>2013.250</td>\n",
       "      <td>0.0</td>\n",
       "      <td>292.99780</td>\n",
       "      <td>6</td>\n",
       "      <td>24.97744</td>\n",
       "      <td>121.54458</td>\n",
       "      <td>70.1</td>\n",
       "    </tr>\n",
       "    <tr>\n",
       "      <th>17</th>\n",
       "      <td>18</td>\n",
       "      <td>2012.750</td>\n",
       "      <td>17.7</td>\n",
       "      <td>350.85150</td>\n",
       "      <td>1</td>\n",
       "      <td>24.97544</td>\n",
       "      <td>121.53119</td>\n",
       "      <td>37.4</td>\n",
       "    </tr>\n",
       "    <tr>\n",
       "      <th>18</th>\n",
       "      <td>19</td>\n",
       "      <td>2013.417</td>\n",
       "      <td>16.9</td>\n",
       "      <td>368.13630</td>\n",
       "      <td>8</td>\n",
       "      <td>24.96750</td>\n",
       "      <td>121.54451</td>\n",
       "      <td>42.3</td>\n",
       "    </tr>\n",
       "    <tr>\n",
       "      <th>19</th>\n",
       "      <td>20</td>\n",
       "      <td>2012.667</td>\n",
       "      <td>1.5</td>\n",
       "      <td>23.38284</td>\n",
       "      <td>7</td>\n",
       "      <td>24.96772</td>\n",
       "      <td>121.54102</td>\n",
       "      <td>47.7</td>\n",
       "    </tr>\n",
       "  </tbody>\n",
       "</table>\n",
       "</div>"
      ],
      "text/plain": [
       "    No  X1 transaction date  X2 house age  \\\n",
       "0    1             2012.917          32.0   \n",
       "1    2             2012.917          19.5   \n",
       "2    3             2013.583          13.3   \n",
       "3    4             2013.500          13.3   \n",
       "4    5             2012.833           5.0   \n",
       "5    6             2012.667           7.1   \n",
       "6    7             2012.667          34.5   \n",
       "7    8             2013.417          20.3   \n",
       "8    9             2013.500          31.7   \n",
       "9   10             2013.417          17.9   \n",
       "10  11             2013.083          34.8   \n",
       "11  12             2013.333           6.3   \n",
       "12  13             2012.917          13.0   \n",
       "13  14             2012.667          20.4   \n",
       "14  15             2013.500          13.2   \n",
       "15  16             2013.583          35.7   \n",
       "16  17             2013.250           0.0   \n",
       "17  18             2012.750          17.7   \n",
       "18  19             2013.417          16.9   \n",
       "19  20             2012.667           1.5   \n",
       "\n",
       "    X3 distance to the nearest MRT station  X4 number of convenience stores  \\\n",
       "0                                 84.87882                               10   \n",
       "1                                306.59470                                9   \n",
       "2                                561.98450                                5   \n",
       "3                                561.98450                                5   \n",
       "4                                390.56840                                5   \n",
       "5                               2175.03000                                3   \n",
       "6                                623.47310                                7   \n",
       "7                                287.60250                                6   \n",
       "8                               5512.03800                                1   \n",
       "9                               1783.18000                                3   \n",
       "10                               405.21340                                1   \n",
       "11                                90.45606                                9   \n",
       "12                               492.23130                                5   \n",
       "13                              2469.64500                                4   \n",
       "14                              1164.83800                                4   \n",
       "15                               579.20830                                2   \n",
       "16                               292.99780                                6   \n",
       "17                               350.85150                                1   \n",
       "18                               368.13630                                8   \n",
       "19                                23.38284                                7   \n",
       "\n",
       "    X5 latitude  X6 longitude  Y house price of unit area  \n",
       "0      24.98298     121.54024                        37.9  \n",
       "1      24.98034     121.53951                        42.2  \n",
       "2      24.98746     121.54391                        47.3  \n",
       "3      24.98746     121.54391                        54.8  \n",
       "4      24.97937     121.54245                        43.1  \n",
       "5      24.96305     121.51254                        32.1  \n",
       "6      24.97933     121.53642                        40.3  \n",
       "7      24.98042     121.54228                        46.7  \n",
       "8      24.95095     121.48458                        18.8  \n",
       "9      24.96731     121.51486                        22.1  \n",
       "10     24.97349     121.53372                        41.4  \n",
       "11     24.97433     121.54310                        58.1  \n",
       "12     24.96515     121.53737                        39.3  \n",
       "13     24.96108     121.51046                        23.8  \n",
       "14     24.99156     121.53406                        34.3  \n",
       "15     24.98240     121.54619                        50.5  \n",
       "16     24.97744     121.54458                        70.1  \n",
       "17     24.97544     121.53119                        37.4  \n",
       "18     24.96750     121.54451                        42.3  \n",
       "19     24.96772     121.54102                        47.7  "
      ]
     },
     "execution_count": 2,
     "metadata": {},
     "output_type": "execute_result"
    }
   ],
   "source": [
    "#sebuah data penilaian real estate di ngra australia\n",
    "ln = pd.read_csv('Real estate valuation data set.csv')\n",
    "ln.head(20)"
   ]
  },
  {
   "cell_type": "code",
   "execution_count": 5,
   "metadata": {},
   "outputs": [
    {
     "data": {
      "text/plain": [
       "Index(['No', 'X1 transaction date', 'X2 house age',\n",
       "       'X3 distance to the nearest MRT station',\n",
       "       'X4 number of convenience stores', 'X5 latitude', 'X6 longitude',\n",
       "       'Y house price of unit area'],\n",
       "      dtype='object')"
      ]
     },
     "execution_count": 5,
     "metadata": {},
     "output_type": "execute_result"
    }
   ],
   "source": [
    "ln.columns"
   ]
  },
  {
   "cell_type": "code",
   "execution_count": 6,
   "metadata": {},
   "outputs": [],
   "source": [
    "#missing value. tujuan dari mencari missing value yaitu menganalisa suata data yang kehilangan nilai\n",
    "#missing value dapat mengakibatkan mengurangi kekuatan statistik, perkiraan yang bias dan mengarah kesimpulan yang tidak vali\n",
    "ln1 = ln.dropna()"
   ]
  },
  {
   "cell_type": "code",
   "execution_count": 7,
   "metadata": {},
   "outputs": [
    {
     "data": {
      "text/plain": [
       "(414, 8)"
      ]
     },
     "execution_count": 7,
     "metadata": {},
     "output_type": "execute_result"
    }
   ],
   "source": [
    "#setelah dicek missing valuenya, maka valuenya -> 414 baris, dan 8 kolom\n",
    "ln1.shape"
   ]
  },
  {
   "cell_type": "code",
   "execution_count": 8,
   "metadata": {},
   "outputs": [
    {
     "data": {
      "text/plain": [
       "0      37.9\n",
       "1      42.2\n",
       "2      47.3\n",
       "3      54.8\n",
       "4      43.1\n",
       "       ... \n",
       "409    15.4\n",
       "410    50.0\n",
       "411    40.6\n",
       "412    52.5\n",
       "413    63.9\n",
       "Name: Y house price of unit area, Length: 414, dtype: float64"
      ]
     },
     "execution_count": 8,
     "metadata": {},
     "output_type": "execute_result"
    }
   ],
   "source": [
    "#memprediksi harga rumah apakah bisa naik jika\n",
    "y = ln1['Y house price of unit area']\n",
    "y"
   ]
  },
  {
   "cell_type": "code",
   "execution_count": 9,
   "metadata": {},
   "outputs": [
    {
     "data": {
      "text/plain": [
       "count    414.000000\n",
       "mean      37.980193\n",
       "std       13.606488\n",
       "min        7.600000\n",
       "25%       27.700000\n",
       "50%       38.450000\n",
       "75%       46.600000\n",
       "max      117.500000\n",
       "Name: Y house price of unit area, dtype: float64"
      ]
     },
     "execution_count": 9,
     "metadata": {},
     "output_type": "execute_result"
    }
   ],
   "source": [
    "#banyaknya data dari Real estate yaitu ada 414, nilai rata2 1083, \n",
    "#di dalam variabel y, dan jika sudah didescribe/digambarkan terdapat 414 nilai, rata2 nilainya di angka 37\n",
    "#di dalam variabel y std nilainya ada 13 macam\n",
    "#\n",
    "\n",
    "y.describe()"
   ]
  },
  {
   "cell_type": "code",
   "execution_count": 10,
   "metadata": {},
   "outputs": [
    {
     "data": {
      "text/plain": [
       "[<matplotlib.lines.Line2D at 0x1c5eba67648>]"
      ]
     },
     "execution_count": 10,
     "metadata": {},
     "output_type": "execute_result"
    },
    {
     "data": {
      "image/png": "[encoded data removed]",
      "text/plain": [
       "<Figure size 432x288 with 1 Axes>"
      ]
     },
     "metadata": {
      "needs_background": "light"
     },
     "output_type": "display_data"
    }
   ],
   "source": [
    "plt.plot(y.describe())"
   ]
  },
  {
   "cell_type": "code",
   "execution_count": 11,
   "metadata": {},
   "outputs": [
    {
     "data": {
      "text/plain": [
       "13.606487697735314"
      ]
     },
     "execution_count": 11,
     "metadata": {},
     "output_type": "execute_result"
    }
   ],
   "source": [
    "y.std()"
   ]
  },
  {
   "cell_type": "code",
   "execution_count": 12,
   "metadata": {},
   "outputs": [
    {
     "data": {
      "text/html": [
       "<div>\n",
       "<style scoped>\n",
       "    .dataframe tbody tr th:only-of-type {\n",
       "        vertical-align: middle;\n",
       "    }\n",
       "\n",
       "    .dataframe tbody tr th {\n",
       "        vertical-align: top;\n",
       "    }\n",
       "\n",
       "    .dataframe thead th {\n",
       "        text-align: right;\n",
       "    }\n",
       "</style>\n",
       "<table border=\"1\" class=\"dataframe\">\n",
       "  <thead>\n",
       "    <tr style=\"text-align: right;\">\n",
       "      <th></th>\n",
       "      <th>X3 distance to the nearest MRT station</th>\n",
       "      <th>X4 number of convenience stores</th>\n",
       "    </tr>\n",
       "  </thead>\n",
       "  <tbody>\n",
       "    <tr>\n",
       "      <th>0</th>\n",
       "      <td>84.87882</td>\n",
       "      <td>10</td>\n",
       "    </tr>\n",
       "    <tr>\n",
       "      <th>1</th>\n",
       "      <td>306.59470</td>\n",
       "      <td>9</td>\n",
       "    </tr>\n",
       "    <tr>\n",
       "      <th>2</th>\n",
       "      <td>561.98450</td>\n",
       "      <td>5</td>\n",
       "    </tr>\n",
       "    <tr>\n",
       "      <th>3</th>\n",
       "      <td>561.98450</td>\n",
       "      <td>5</td>\n",
       "    </tr>\n",
       "    <tr>\n",
       "      <th>4</th>\n",
       "      <td>390.56840</td>\n",
       "      <td>5</td>\n",
       "    </tr>\n",
       "    <tr>\n",
       "      <th>...</th>\n",
       "      <td>...</td>\n",
       "      <td>...</td>\n",
       "    </tr>\n",
       "    <tr>\n",
       "      <th>409</th>\n",
       "      <td>4082.01500</td>\n",
       "      <td>0</td>\n",
       "    </tr>\n",
       "    <tr>\n",
       "      <th>410</th>\n",
       "      <td>90.45606</td>\n",
       "      <td>9</td>\n",
       "    </tr>\n",
       "    <tr>\n",
       "      <th>411</th>\n",
       "      <td>390.96960</td>\n",
       "      <td>7</td>\n",
       "    </tr>\n",
       "    <tr>\n",
       "      <th>412</th>\n",
       "      <td>104.81010</td>\n",
       "      <td>5</td>\n",
       "    </tr>\n",
       "    <tr>\n",
       "      <th>413</th>\n",
       "      <td>90.45606</td>\n",
       "      <td>9</td>\n",
       "    </tr>\n",
       "  </tbody>\n",
       "</table>\n",
       "<p>414 rows × 2 columns</p>\n",
       "</div>"
      ],
      "text/plain": [
       "     X3 distance to the nearest MRT station  X4 number of convenience stores\n",
       "0                                  84.87882                               10\n",
       "1                                 306.59470                                9\n",
       "2                                 561.98450                                5\n",
       "3                                 561.98450                                5\n",
       "4                                 390.56840                                5\n",
       "..                                      ...                              ...\n",
       "409                              4082.01500                                0\n",
       "410                                90.45606                                9\n",
       "411                               390.96960                                7\n",
       "412                               104.81010                                5\n",
       "413                                90.45606                                9\n",
       "\n",
       "[414 rows x 2 columns]"
      ]
     },
     "execution_count": 12,
     "metadata": {},
     "output_type": "execute_result"
    }
   ],
   "source": [
    "#lokasi dekat MRT Station, dan toko\n",
    "features = ['X3 distance to the nearest MRT station','X4 number of convenience stores']\n",
    "X = ln1[features]\n",
    "X"
   ]
  },
  {
   "cell_type": "code",
   "execution_count": 13,
   "metadata": {},
   "outputs": [
    {
     "data": {
      "text/html": [
       "<div>\n",
       "<style scoped>\n",
       "    .dataframe tbody tr th:only-of-type {\n",
       "        vertical-align: middle;\n",
       "    }\n",
       "\n",
       "    .dataframe tbody tr th {\n",
       "        vertical-align: top;\n",
       "    }\n",
       "\n",
       "    .dataframe thead th {\n",
       "        text-align: right;\n",
       "    }\n",
       "</style>\n",
       "<table border=\"1\" class=\"dataframe\">\n",
       "  <thead>\n",
       "    <tr style=\"text-align: right;\">\n",
       "      <th></th>\n",
       "      <th>X3 distance to the nearest MRT station</th>\n",
       "      <th>X4 number of convenience stores</th>\n",
       "    </tr>\n",
       "  </thead>\n",
       "  <tbody>\n",
       "    <tr>\n",
       "      <th>count</th>\n",
       "      <td>414.000000</td>\n",
       "      <td>414.000000</td>\n",
       "    </tr>\n",
       "    <tr>\n",
       "      <th>mean</th>\n",
       "      <td>1083.885689</td>\n",
       "      <td>4.094203</td>\n",
       "    </tr>\n",
       "    <tr>\n",
       "      <th>std</th>\n",
       "      <td>1262.109595</td>\n",
       "      <td>2.945562</td>\n",
       "    </tr>\n",
       "    <tr>\n",
       "      <th>min</th>\n",
       "      <td>23.382840</td>\n",
       "      <td>0.000000</td>\n",
       "    </tr>\n",
       "    <tr>\n",
       "      <th>25%</th>\n",
       "      <td>289.324800</td>\n",
       "      <td>1.000000</td>\n",
       "    </tr>\n",
       "    <tr>\n",
       "      <th>50%</th>\n",
       "      <td>492.231300</td>\n",
       "      <td>4.000000</td>\n",
       "    </tr>\n",
       "    <tr>\n",
       "      <th>75%</th>\n",
       "      <td>1454.279000</td>\n",
       "      <td>6.000000</td>\n",
       "    </tr>\n",
       "    <tr>\n",
       "      <th>max</th>\n",
       "      <td>6488.021000</td>\n",
       "      <td>10.000000</td>\n",
       "    </tr>\n",
       "  </tbody>\n",
       "</table>\n",
       "</div>"
      ],
      "text/plain": [
       "       X3 distance to the nearest MRT station  X4 number of convenience stores\n",
       "count                              414.000000                       414.000000\n",
       "mean                              1083.885689                         4.094203\n",
       "std                               1262.109595                         2.945562\n",
       "min                                 23.382840                         0.000000\n",
       "25%                                289.324800                         1.000000\n",
       "50%                                492.231300                         4.000000\n",
       "75%                               1454.279000                         6.000000\n",
       "max                               6488.021000                        10.000000"
      ]
     },
     "execution_count": 13,
     "metadata": {},
     "output_type": "execute_result"
    }
   ],
   "source": [
    "X.describe()"
   ]
  },
  {
   "cell_type": "markdown",
   "metadata": {},
   "source": [
    "# model&fungsi"
   ]
  },
  {
   "cell_type": "code",
   "execution_count": 14,
   "metadata": {},
   "outputs": [],
   "source": [
    "from sklearn.tree import DecisionTreeRegressor"
   ]
  },
  {
   "cell_type": "code",
   "execution_count": 15,
   "metadata": {},
   "outputs": [],
   "source": [
    "#membangun model klasifikasi data, yang tujuannya untuk memecah kumpulan data menjadi bagian himpunan yang lebih kecil lagi\n",
    "ln1_model = DecisionTreeRegressor(random_state=1)"
   ]
  },
  {
   "cell_type": "code",
   "execution_count": 16,
   "metadata": {},
   "outputs": [
    {
     "data": {
      "text/plain": [
       "DecisionTreeRegressor(ccp_alpha=0.0, criterion='mse', max_depth=None,\n",
       "                      max_features=None, max_leaf_nodes=None,\n",
       "                      min_impurity_decrease=0.0, min_impurity_split=None,\n",
       "                      min_samples_leaf=1, min_samples_split=2,\n",
       "                      min_weight_fraction_leaf=0.0, presort='deprecated',\n",
       "                      random_state=1, splitter='best')"
      ]
     },
     "execution_count": 16,
     "metadata": {},
     "output_type": "execute_result"
    }
   ],
   "source": [
    "#train model\n",
    "ln1_model.fit(X, y)"
   ]
  },
  {
   "cell_type": "code",
   "execution_count": 17,
   "metadata": {},
   "outputs": [
    {
     "data": {
      "text/plain": [
       "[<matplotlib.lines.Line2D at 0x1c5ebf8cd88>]"
      ]
     },
     "execution_count": 17,
     "metadata": {},
     "output_type": "execute_result"
    },
    {
     "data": {
      "image/png": "[encoded data removed]",
      "text/plain": [
       "<Figure size 432x288 with 1 Axes>"
      ]
     },
     "metadata": {
      "needs_background": "light"
     },
     "output_type": "display_data"
    }
   ],
   "source": [
    "#prediksi\n",
    "plt.plot(ln1_model.predict(X.head()))"
   ]
  },
  {
   "cell_type": "code",
   "execution_count": 18,
   "metadata": {},
   "outputs": [
    {
     "data": {
      "text/plain": [
       "[<matplotlib.lines.Line2D at 0x1c5ec08a688>]"
      ]
     },
     "execution_count": 18,
     "metadata": {},
     "output_type": "execute_result"
    },
    {
     "data": {
      "image/png": "[encoded data removed]",
      "text/plain": [
       "<Figure size 432x288 with 1 Axes>"
      ]
     },
     "metadata": {
      "needs_background": "light"
     },
     "output_type": "display_data"
    }
   ],
   "source": [
    "plt.plot(y.head())"
   ]
  },
  {
   "cell_type": "code",
   "execution_count": 19,
   "metadata": {},
   "outputs": [],
   "source": [
    "#evaluasi metric\n",
    "from sklearn.metrics import mean_absolute_error"
   ]
  },
  {
   "cell_type": "code",
   "execution_count": 20,
   "metadata": {},
   "outputs": [
    {
     "data": {
      "text/plain": [
       "1.4237213886489248"
      ]
     },
     "execution_count": 20,
     "metadata": {},
     "output_type": "execute_result"
    }
   ],
   "source": [
    "y_hat = ln1_model.predict(X)\n",
    "mean_absolute_error(y, y_hat)"
   ]
  },
  {
   "cell_type": "markdown",
   "metadata": {},
   "source": [
    "# Training & Testing DataSet\n"
   ]
  },
  {
   "cell_type": "code",
   "execution_count": 21,
   "metadata": {},
   "outputs": [],
   "source": [
    "from sklearn.model_selection import train_test_split"
   ]
  },
  {
   "cell_type": "code",
   "execution_count": 22,
   "metadata": {},
   "outputs": [],
   "source": [
    "X_train, X_test, y_train, y_test = train_test_split(X, y, random_state=1)"
   ]
  },
  {
   "cell_type": "code",
   "execution_count": 23,
   "metadata": {},
   "outputs": [
    {
     "data": {
      "text/plain": [
       "DecisionTreeRegressor(ccp_alpha=0.0, criterion='mse', max_depth=None,\n",
       "                      max_features=None, max_leaf_nodes=None,\n",
       "                      min_impurity_decrease=0.0, min_impurity_split=None,\n",
       "                      min_samples_leaf=1, min_samples_split=2,\n",
       "                      min_weight_fraction_leaf=0.0, presort='deprecated',\n",
       "                      random_state=1, splitter='best')"
      ]
     },
     "execution_count": 23,
     "metadata": {},
     "output_type": "execute_result"
    }
   ],
   "source": [
    "ln1_model = DecisionTreeRegressor(random_state=1)\n",
    "ln1_model.fit(X_train, y_train)"
   ]
  },
  {
   "cell_type": "code",
   "execution_count": 24,
   "metadata": {},
   "outputs": [
    {
     "data": {
      "text/plain": [
       "6.201856684981686"
      ]
     },
     "execution_count": 24,
     "metadata": {},
     "output_type": "execute_result"
    }
   ],
   "source": [
    "y_hat = ln1_model.predict(X_test) #mean absolute error mengukur kesalahn antra pengamatan berpasangan yang mengungkapkan fenomena yg sama\n",
    "mean_absolute_error(y_test, y_hat) #dan valuenya 6.20"
   ]
  },
  {
   "cell_type": "code",
   "execution_count": 25,
   "metadata": {},
   "outputs": [
    {
     "name": "stdout",
     "output_type": "stream",
     "text": [
      "[ 29.5         48.35        24.7         17.3         26.9\n",
      "  30.5         28.6         34.3         43.1         13.2\n",
      "  13.2         40.9         21.55        41.          58.4\n",
      "  22.9         26.9         54.45        28.1         50.63333333\n",
      "  37.9         23.2         38.3         40.2         45.5\n",
      "  26.5         28.1         47.06        44.625       16.8\n",
      "  23.1         31.5         36.8         47.06        44.3\n",
      "  16.8         38.3         35.1         40.85        17.3\n",
      "  42.3         19.          58.4         29.14        30.05\n",
      "  28.9         31.1         44.2         36.5         34.1\n",
      "  16.8         60.7         42.          16.8         44.9\n",
      " 117.5         26.9         37.5         42.4         40.52857143\n",
      "  19.          33.3         24.7         16.8         41.4\n",
      "  44.9         56.66666667  41.9         16.8         41.4\n",
      "  50.63333333  13.2         47.          44.625       58.4\n",
      "  48.1         36.8         37.5         28.5         50.63333333\n",
      "  37.5         46.23333333  37.9         36.85        47.06\n",
      "  58.4         44.625       18.7         46.1         17.3\n",
      "  28.1         69.5         60.7         27.57142857  54.5\n",
      "  54.45        23.2         40.52857143  40.2         46.23333333\n",
      "  41.2         50.63333333  23.2         21.4       ]\n"
     ]
    }
   ],
   "source": [
    "print(y_hat) #nilai prediksi dari y (variabel dependen) dalam persamaan regresi, ataupun bisa DIANGGAP sbg nilai rata2 dari variabel respon"
   ]
  },
  {
   "cell_type": "code",
   "execution_count": 26,
   "metadata": {},
   "outputs": [
    {
     "data": {
      "text/plain": [
       "count    104.000000\n",
       "mean      36.601923\n",
       "std       13.352270\n",
       "min       11.600000\n",
       "25%       26.000000\n",
       "50%       37.400000\n",
       "75%       45.600000\n",
       "max       69.700000\n",
       "Name: Y house price of unit area, dtype: float64"
      ]
     },
     "execution_count": 26,
     "metadata": {},
     "output_type": "execute_result"
    }
   ],
   "source": [
    "y_test.describe()"
   ]
  },
  {
   "cell_type": "code",
   "execution_count": 27,
   "metadata": {},
   "outputs": [
    {
     "data": {
      "text/plain": [
       "388    27.3\n",
       "102    54.4\n",
       "187    22.0\n",
       "162    11.6\n",
       "90     45.4\n",
       "Name: Y house price of unit area, dtype: float64"
      ]
     },
     "execution_count": 27,
     "metadata": {},
     "output_type": "execute_result"
    }
   ],
   "source": [
    "y_test.head()"
   ]
  },
  {
   "cell_type": "code",
   "execution_count": 28,
   "metadata": {},
   "outputs": [
    {
     "data": {
      "text/html": [
       "<div>\n",
       "<style scoped>\n",
       "    .dataframe tbody tr th:only-of-type {\n",
       "        vertical-align: middle;\n",
       "    }\n",
       "\n",
       "    .dataframe tbody tr th {\n",
       "        vertical-align: top;\n",
       "    }\n",
       "\n",
       "    .dataframe thead th {\n",
       "        text-align: right;\n",
       "    }\n",
       "</style>\n",
       "<table border=\"1\" class=\"dataframe\">\n",
       "  <thead>\n",
       "    <tr style=\"text-align: right;\">\n",
       "      <th></th>\n",
       "      <th>X3 distance to the nearest MRT station</th>\n",
       "      <th>X4 number of convenience stores</th>\n",
       "    </tr>\n",
       "  </thead>\n",
       "  <tbody>\n",
       "    <tr>\n",
       "      <th>388</th>\n",
       "      <td>2251.9380</td>\n",
       "      <td>4</td>\n",
       "    </tr>\n",
       "    <tr>\n",
       "      <th>102</th>\n",
       "      <td>193.5845</td>\n",
       "      <td>6</td>\n",
       "    </tr>\n",
       "    <tr>\n",
       "      <th>187</th>\n",
       "      <td>3078.1760</td>\n",
       "      <td>0</td>\n",
       "    </tr>\n",
       "    <tr>\n",
       "      <th>162</th>\n",
       "      <td>4066.5870</td>\n",
       "      <td>0</td>\n",
       "    </tr>\n",
       "    <tr>\n",
       "      <th>90</th>\n",
       "      <td>274.0144</td>\n",
       "      <td>1</td>\n",
       "    </tr>\n",
       "  </tbody>\n",
       "</table>\n",
       "</div>"
      ],
      "text/plain": [
       "     X3 distance to the nearest MRT station  X4 number of convenience stores\n",
       "388                               2251.9380                                4\n",
       "102                                193.5845                                6\n",
       "187                               3078.1760                                0\n",
       "162                               4066.5870                                0\n",
       "90                                 274.0144                                1"
      ]
     },
     "execution_count": 28,
     "metadata": {},
     "output_type": "execute_result"
    }
   ],
   "source": [
    "X_test.head()"
   ]
  },
  {
   "cell_type": "code",
   "execution_count": 29,
   "metadata": {},
   "outputs": [
    {
     "name": "stdout",
     "output_type": "stream",
     "text": [
      "MSE: 0.020252030862381448\n",
      "MSE: 0.020673790392966268\n",
      "MSE: 0.02148752911538361\n",
      "MSE: 0.021565095878231574\n",
      "MSE: 0.022500947373973137\n",
      "MSE: 0.024481732322785763\n",
      "MSE: 0.024532303296811758\n",
      "MSE: 0.02473902059277809\n",
      "MSE: 0.02474360245977531\n",
      "MSE: 0.025835994167623885\n",
      "MSE: 0.026143773950795493\n",
      "MSE: 0.02672635239552404\n",
      "MSE: 0.02695583219066893\n",
      "MSE: 0.02700884008528795\n",
      "MSE: 0.027017164067519594\n",
      "MSE: 0.02714547084916633\n",
      "MSE: 0.028543497984001794\n",
      "MSE: 0.030934061421628998\n",
      "MSE: 0.03093676596930934\n",
      "MSE: 0.03133377902347975\n",
      "MSE: 0.031561095152821975\n",
      "MSE: 0.032599995787206563\n",
      "MSE: 0.032907269262139445\n",
      "MSE: 0.03305196056258179\n",
      "MSE: 0.033518526374138435\n",
      "MSE: 0.03360698073155881\n",
      "MSE: 0.03383949630540581\n",
      "MSE: 0.034489899800822774\n",
      "MSE: 0.034654732491425956\n",
      "MSE: 0.03495514715061621\n",
      "MSE: 0.034955221209645934\n",
      "MSE: 0.03500527974733408\n",
      "MSE: 0.03575864337715473\n",
      "MSE: 0.035768293814584295\n",
      "MSE: 0.03657014722149316\n",
      "MSE: 0.03715865721034233\n",
      "MSE: 0.03816347315036949\n",
      "MSE: 0.03867482591191872\n",
      "MSE: 0.038971461906169146\n",
      "MSE: 0.038976802834547054\n",
      "MSE: 0.039484179516825174\n",
      "MSE: 0.039708594770612234\n",
      "MSE: 0.03995109050364687\n",
      "MSE: 0.041145007979461974\n",
      "MSE: 0.04118298789086729\n",
      "MSE: 0.04119007541770087\n",
      "MSE: 0.04137774402790909\n",
      "MSE: 0.041432625477738357\n",
      "MSE: 0.04171529040168933\n",
      "MSE: 0.041804594755215155\n",
      "MSE: 0.04213982336689774\n",
      "MSE: 0.04243965588488631\n",
      "MSE: 0.04283120817618809\n",
      "MSE: 0.042845599132746826\n",
      "MSE: 0.04338519464829911\n",
      "MSE: 0.0439156833577432\n",
      "MSE: 0.0441473795587927\n",
      "MSE: 0.044151953387121474\n",
      "MSE: 0.044501991350188404\n",
      "MSE: 0.04450395788901937\n",
      "MSE: 0.04456495839028491\n",
      "MSE: 0.04489609037905501\n",
      "MSE: 0.044919821701352135\n",
      "MSE: 0.04543449954330673\n",
      "MSE: 0.04553438217844364\n",
      "MSE: 0.04565796555087257\n",
      "MSE: 0.045859456521363876\n",
      "MSE: 0.04593973631998716\n",
      "MSE: 0.0460095521266065\n",
      "MSE: 0.04643614024425092\n",
      "MSE: 0.048383311734514774\n",
      "MSE: 0.049131483719750665\n",
      "MSE: 0.04992943268383442\n",
      "MSE: 0.052950279007266496\n",
      "MSE: 0.05303687531048715\n",
      "MSE: 0.053152846292424755\n",
      "MSE: 0.0531906071235973\n",
      "MSE: 0.05322568275234484\n",
      "MSE: 0.053744861418862255\n",
      "MSE: 0.05409060232325853\n",
      "MSE: 0.0553825011436052\n",
      "MSE: 0.05576553182392304\n",
      "MSE: 0.05599975720309887\n",
      "MSE: 0.056885437693751054\n",
      "MSE: 0.057468417752893214\n",
      "MSE: 0.05753931310760101\n",
      "MSE: 0.057577091979163754\n",
      "MSE: 0.05758946694348904\n",
      "MSE: 0.057612193075583726\n",
      "MSE: 0.05790500623184897\n",
      "MSE: 0.05818854404183452\n",
      "MSE: 0.05820493980830031\n",
      "MSE: 0.058207275941529094\n",
      "MSE: 0.05903654376776108\n",
      "MSE: 0.05953457015692977\n",
      "MSE: 0.05975912760338109\n",
      "MSE: 0.05994033732595868\n",
      "MSE: 0.060038842663061254\n",
      "MSE: 0.0609876631449134\n",
      "MSE: 0.06099114097644257\n",
      "MSE: 0.06228799419690094\n",
      "MSE: 0.06238895454467957\n",
      "MSE: 0.06275388201168772\n",
      "MSE: 0.06318037295988335\n",
      "MSE: 0.06322513329751964\n",
      "MSE: 0.06323462414351605\n",
      "MSE: 0.06342810200727704\n",
      "MSE: 0.0635503093332975\n",
      "MSE: 0.0645351243822548\n",
      "MSE: 0.06455911758854241\n",
      "MSE: 0.06475300407895246\n",
      "MSE: 0.06488977981592749\n",
      "MSE: 0.06569190078876554\n",
      "MSE: 0.06578869831648967\n",
      "MSE: 0.06579548989836208\n",
      "MSE: 0.06587208838181872\n",
      "MSE: 0.06599919453845465\n",
      "MSE: 0.06616335568745674\n",
      "MSE: 0.06616624976175034\n",
      "MSE: 0.06640042800938957\n",
      "MSE: 0.06667340403758791\n",
      "MSE: 0.06668059935743606\n",
      "MSE: 0.06697088883460486\n",
      "MSE: 0.06700033711198199\n",
      "MSE: 0.06700066978763085\n",
      "MSE: 0.06702156726796021\n",
      "MSE: 0.06724076622323767\n",
      "MSE: 0.0674806540238595\n",
      "MSE: 0.06759178464551192\n",
      "MSE: 0.06759192800305963\n",
      "MSE: 0.06762472442659984\n",
      "MSE: 0.06777406423440863\n",
      "MSE: 0.06781615637221551\n",
      "MSE: 0.06783076702261201\n",
      "MSE: 0.06972205862640002\n",
      "MSE: 0.07007891034402204\n",
      "MSE: 0.07008223295985828\n",
      "MSE: 0.07178319960071808\n",
      "MSE: 0.07200328988638378\n",
      "MSE: 0.07231913983276098\n",
      "MSE: 0.0726454885903127\n",
      "MSE: 0.07286929035627346\n",
      "MSE: 0.07300545537074818\n",
      "MSE: 0.0735126616242523\n",
      "MSE: 0.07369453933652342\n",
      "MSE: 0.0745966397687873\n",
      "MSE: 0.0747510119063181\n",
      "MSE: 0.0750178071936136\n",
      "MSE: 0.07540606315930658\n",
      "MSE: 0.07542210959430018\n",
      "MSE: 0.07562107734467602\n",
      "MSE: 0.0757160821197225\n",
      "MSE: 0.07572448457639952\n",
      "MSE: 0.07663455525470252\n",
      "MSE: 0.07710329714708232\n",
      "MSE: 0.07717602540219948\n",
      "MSE: 0.07736120226954363\n",
      "MSE: 0.07765070628774545\n",
      "MSE: 0.07776563072801146\n",
      "MSE: 0.07780200874374188\n",
      "MSE: 0.07789259565425648\n",
      "MSE: 0.0788897180738641\n",
      "MSE: 0.07907858041642923\n",
      "MSE: 0.0791450907965031\n",
      "MSE: 0.08037633703328934\n",
      "MSE: 0.08037650623898587\n",
      "MSE: 0.08070864887003844\n",
      "MSE: 0.08159350550274112\n",
      "MSE: 0.0829581587996692\n",
      "MSE: 0.08307196058823724\n",
      "MSE: 0.08556956933891584\n",
      "MSE: 0.08562057338719155\n",
      "MSE: 0.08563383153785518\n",
      "MSE: 0.08576547887698194\n",
      "MSE: 0.0878602265866822\n",
      "MSE: 0.08803837854771483\n",
      "MSE: 0.08805472267139518\n",
      "MSE: 0.08805544361431648\n",
      "MSE: 0.08806469840163358\n",
      "MSE: 0.08811044974281956\n",
      "MSE: 0.08824002185415102\n",
      "MSE: 0.08878204791722462\n",
      "MSE: 0.08878704075031374\n",
      "MSE: 0.08962650465633133\n",
      "MSE: 0.08981148747505226\n",
      "MSE: 0.09007852531727177\n",
      "MSE: 0.0901042680200266\n",
      "MSE: 0.09031185079032428\n",
      "MSE: 0.09078063952094925\n",
      "MSE: 0.09084885043385733\n",
      "MSE: 0.09311990609397597\n",
      "MSE: 0.09314061669068305\n",
      "MSE: 0.09375574562648639\n",
      "MSE: 0.09375591759161257\n",
      "MSE: 0.09386697866946744\n",
      "MSE: 0.09389532304500586\n",
      "MSE: 0.09391516949491302\n",
      "MSE: 0.09397883722006166\n",
      "MSE: 0.09410350421624465\n",
      "MSE: 0.09410871647871057\n",
      "MSE: 0.0943233054811115\n",
      "MSE: 0.09483072412682118\n",
      "MSE: 0.09527306090233396\n",
      "MSE: 0.09527516931446961\n",
      "MSE: 0.09531324925721785\n",
      "MSE: 0.09653943372672949\n",
      "MSE: 0.09678035371362594\n",
      "MSE: 0.10091417533795523\n",
      "MSE: 0.10114572459761743\n",
      "MSE: 0.10160322763466392\n",
      "MSE: 0.10170797991481376\n",
      "MSE: 0.10175264121042757\n",
      "MSE: 0.10228057659094393\n",
      "MSE: 0.10300889650453628\n",
      "MSE: 0.10302843394507163\n",
      "MSE: 0.10303615402869483\n",
      "MSE: 0.10326476246171587\n",
      "MSE: 0.1044045220992973\n",
      "MSE: 0.10454891828761782\n",
      "MSE: 0.10520087073229432\n",
      "MSE: 0.105234095773932\n",
      "MSE: 0.10536858990670192\n",
      "MSE: 0.10559636025767676\n",
      "MSE: 0.10612502559256329\n",
      "MSE: 0.10612693568428094\n",
      "MSE: 0.10637968304871154\n",
      "MSE: 0.10639080437552684\n",
      "MSE: 0.10641310153778623\n",
      "MSE: 0.1064343317153466\n",
      "MSE: 0.10692718837514122\n",
      "MSE: 0.10701651505324528\n",
      "MSE: 0.10702150305675123\n",
      "MSE: 0.10703546274159136\n",
      "MSE: 0.10708002260931203\n",
      "MSE: 0.10823161232494057\n",
      "MSE: 0.11050355796099201\n",
      "MSE: 0.11065130049769513\n",
      "MSE: 0.11237913397316907\n",
      "MSE: 0.11283711253663159\n",
      "MSE: 0.11287085721700575\n",
      "MSE: 0.11310102446007847\n",
      "MSE: 0.11312166159565913\n",
      "MSE: 0.11312666110783524\n",
      "MSE: 0.11379833690592184\n",
      "MSE: 0.11531418096672776\n",
      "MSE: 0.11669475918647107\n",
      "MSE: 0.11673771198790195\n",
      "MSE: 0.11741915316444881\n",
      "MSE: 0.11773604948559341\n",
      "MSE: 0.1177371987052375\n",
      "MSE: 0.11774134596798026\n",
      "MSE: 0.11850338403495088\n",
      "MSE: 0.11850804389819937\n",
      "MSE: 0.12002839076121079\n",
      "MSE: 0.12133736838190044\n",
      "MSE: 0.12208921994681216\n",
      "MSE: 0.12304661919994049\n",
      "MSE: 0.12312202176204858\n",
      "MSE: 0.12321051516096065\n",
      "MSE: 0.1235295768979315\n",
      "MSE: 0.12449224267206303\n",
      "MSE: 0.12455162896395226\n",
      "MSE: 0.12457732886882998\n",
      "MSE: 0.12466655244340054\n",
      "MSE: 0.12505354160805035\n",
      "MSE: 0.12517031305546036\n",
      "MSE: 0.12529660711815543\n",
      "MSE: 0.12543214517959964\n",
      "MSE: 0.1254557815386631\n",
      "MSE: 0.12571121781999947\n",
      "MSE: 0.12571292641088966\n",
      "MSE: 0.1281308766496038\n",
      "MSE: 0.12831383508960098\n",
      "MSE: 0.1283394569248494\n",
      "MSE: 0.1287729954333912\n",
      "MSE: 0.13025441192293905\n",
      "MSE: 0.13037383748914003\n",
      "MSE: 0.1306982572206504\n",
      "MSE: 0.1312958830913258\n",
      "MSE: 0.1324948087147248\n",
      "MSE: 0.13264658799308437\n",
      "MSE: 0.13284829188328987\n",
      "MSE: 0.13374154003910818\n",
      "MSE: 0.13400569845948848\n",
      "MSE: 0.13400724471402836\n",
      "MSE: 0.13466769313432514\n",
      "MSE: 0.13476575339868685\n",
      "MSE: 0.13479627993179627\n",
      "MSE: 0.1350156769574991\n",
      "MSE: 0.13510036282518095\n",
      "MSE: 0.13577823085178692\n",
      "MSE: 0.13601753515927034\n",
      "MSE: 0.1360554193843236\n",
      "MSE: 0.13605886206880738\n",
      "MSE: 0.1361909263532371\n",
      "MSE: 0.1362351338661425\n",
      "MSE: 0.1363669030352228\n",
      "MSE: 0.1371108464274747\n",
      "MSE: 0.13712137471910482\n",
      "MSE: 0.13802686247989232\n",
      "MSE: 0.1383981976407015\n",
      "MSE: 0.14159043039500555\n",
      "MSE: 0.14164774458137439\n",
      "MSE: 0.1416998643738913\n",
      "MSE: 0.14169987365748812\n",
      "MSE: 0.1417064278997168\n",
      "MSE: 0.14242226328526217\n",
      "MSE: 0.14258757145612505\n",
      "MSE: 0.14277154616169246\n",
      "MSE: 0.14304981953692997\n"
     ]
    }
   ],
   "source": [
    "y_test = 310\n",
    "mu = 36.60\n",
    "var = 6.0\n",
    "err = 6.0\n",
    "for i in range (y_test): #perulangan i di dalam lingkup NTs\n",
    "    x = np.random.normal(mu , var , y_test) #menyimpan property\n",
    "    err += (x.mean()-mu)**2\n",
    "    print('MSE:', err/y_test) #rata-rata kuadrat kesalahan; jika angkanya semakin besar, maka kesalahannya semkin besar pula"
   ]
  },
  {
   "cell_type": "code",
   "execution_count": 30,
   "metadata": {},
   "outputs": [],
   "source": [
    "import matplotlib.pyplot as plt\n",
    "from sklearn import linear_model\n",
    "import numpy as np\n",
    "from sklearn.metrics import mean_squared_error, r2_score"
   ]
  },
  {
   "cell_type": "code",
   "execution_count": 35,
   "metadata": {},
   "outputs": [
    {
     "name": "stdout",
     "output_type": "stream",
     "text": [
      "Coefficients:\n",
      " [[4.81785714]]\n"
     ]
    }
   ],
   "source": [
    "reg = linear_model.LinearRegression() #meminimalkan jumlah sisa kuadrat antara\n",
    "#target yg diamati dalam dataset, dan target yg diprediksi dengan pendekatan linear\n",
    "ar = np.array([[[4],[6],[0]], [[27.3],[54.4],[22.0]]])\n",
    "y = ar[1,:]\n",
    "x = ar[0,:]\n",
    "reg.fit(x,y) #mengambil data train sbg ARGUMEN, yg dapat menjadi salah satu array dalam kasus pembelajaran tnp pengawasan\n",
    "print('Coefficients:\\n', reg.coef_) #coef_ untuk masalah regresi linier. jika bbrpa target diterukan selama FIT(y 2D) dan ini adl bntuk array 2D\n"
   ]
  },
  {
   "cell_type": "code",
   "execution_count": 32,
   "metadata": {},
   "outputs": [
    {
     "name": "stdout",
     "output_type": "stream",
     "text": [
      "<bound method LinearRegression.fit of LinearRegression(copy_X=True, fit_intercept=True, n_jobs=None, normalize=False)>\n"
     ]
    }
   ],
   "source": [
    "y = ar[1,:]\n",
    "x = ar[0,:]\n",
    "\n",
    "reg.fit(x,y) #1.fit_intercept=True suatu kondisi apakh akan menghitung intersep suatu model. doi tdk akan akan\n",
    "#1. menghtung jika nilainya false \"normalize=False\"\n",
    "#2. normalize=False sbnrnya parameter ini diabaikan jika \"fit_intercept\" nilainya FALSE, dan jika benar, REGRESSOR X akan\n",
    "#2. dinormalisasi sblum regresi dg mengurangkan nilai rata2 & membaginya dg norma-I2\n",
    "#3. copy_X jika benar akan disalin, dan jika tidak akan ditimpa\n",
    "#4. n_jobs=None jumlh tugas untuk penghitungan. ini akan hny mmberikan percepatan untuk n_target > 1. none = 1\n",
    "print(reg.fit)"
   ]
  },
  {
   "cell_type": "code",
   "execution_count": 33,
   "metadata": {},
   "outputs": [],
   "source": [
    "#NPs = 1000"
   ]
  },
  {
   "cell_type": "code",
   "execution_count": null,
   "metadata": {},
   "outputs": [],
   "source": []
  },
  {
   "cell_type": "code",
   "execution_count": null,
   "metadata": {},
   "outputs": [],
   "source": []
  },
  {
   "cell_type": "code",
   "execution_count": 34,
   "metadata": {},
   "outputs": [
    {
     "ename": "ValueError",
     "evalue": "x and y must have same first dimension, but have shapes (1,) and (104,)",
     "output_type": "error",
     "traceback": [
      "\u001b[1;31m---------------------------------------------------------------------------\u001b[0m",
      "\u001b[1;31mValueError\u001b[0m                                Traceback (most recent call last)",
      "\u001b[1;32m<ipython-input-34-f29ae4eb0d14>\u001b[0m in \u001b[0;36m<module>\u001b[1;34m\u001b[0m\n\u001b[0;32m      1\u001b[0m \u001b[0mfig\u001b[0m\u001b[1;33m,\u001b[0m \u001b[0max\u001b[0m \u001b[1;33m=\u001b[0m \u001b[0mplt\u001b[0m\u001b[1;33m.\u001b[0m\u001b[0msubplots\u001b[0m\u001b[1;33m(\u001b[0m\u001b[0mfigsize\u001b[0m\u001b[1;33m=\u001b[0m\u001b[1;33m(\u001b[0m\u001b[1;36m9\u001b[0m\u001b[1;33m,\u001b[0m\u001b[1;36m6\u001b[0m\u001b[1;33m)\u001b[0m\u001b[1;33m)\u001b[0m\u001b[1;33m\u001b[0m\u001b[1;33m\u001b[0m\u001b[0m\n\u001b[0;32m      2\u001b[0m \u001b[0mplt\u001b[0m\u001b[1;33m.\u001b[0m\u001b[0mstyle\u001b[0m\u001b[1;33m.\u001b[0m\u001b[0muse\u001b[0m\u001b[1;33m(\u001b[0m\u001b[1;34m'fivethirtyeight'\u001b[0m\u001b[1;33m)\u001b[0m\u001b[1;33m\u001b[0m\u001b[1;33m\u001b[0m\u001b[0m\n\u001b[1;32m----> 3\u001b[1;33m \u001b[0max\u001b[0m\u001b[1;33m.\u001b[0m\u001b[0mplot\u001b[0m\u001b[1;33m(\u001b[0m\u001b[0my_test\u001b[0m\u001b[1;33m,\u001b[0m \u001b[0my_hat\u001b[0m\u001b[1;33m)\u001b[0m\u001b[1;33m\u001b[0m\u001b[1;33m\u001b[0m\u001b[0m\n\u001b[0m\u001b[0;32m      4\u001b[0m \u001b[1;33m\u001b[0m\u001b[0m\n\u001b[0;32m      5\u001b[0m \u001b[0max\u001b[0m\u001b[1;33m.\u001b[0m\u001b[0mfill_between\u001b[0m\u001b[1;33m(\u001b[0m\u001b[0my_test\u001b[0m\u001b[1;33m,\u001b[0m \u001b[0my_hat\u001b[0m\u001b[1;33m,\u001b[0m \u001b[1;36m0\u001b[0m\u001b[1;33m,\u001b[0m \u001b[0malpha\u001b[0m\u001b[1;33m=\u001b[0m\u001b[1;36m0.3\u001b[0m\u001b[1;33m,\u001b[0m \u001b[0mcolor\u001b[0m\u001b[1;33m=\u001b[0m\u001b[1;34m'blue'\u001b[0m\u001b[1;33m)\u001b[0m\u001b[1;33m\u001b[0m\u001b[1;33m\u001b[0m\u001b[0m\n",
      "\u001b[1;32m~\\anaconda3\\lib\\site-packages\\matplotlib\\axes\\_axes.py\u001b[0m in \u001b[0;36mplot\u001b[1;34m(self, scalex, scaley, data, *args, **kwargs)\u001b[0m\n\u001b[0;32m   1663\u001b[0m         \"\"\"\n\u001b[0;32m   1664\u001b[0m         \u001b[0mkwargs\u001b[0m \u001b[1;33m=\u001b[0m \u001b[0mcbook\u001b[0m\u001b[1;33m.\u001b[0m\u001b[0mnormalize_kwargs\u001b[0m\u001b[1;33m(\u001b[0m\u001b[0mkwargs\u001b[0m\u001b[1;33m,\u001b[0m \u001b[0mmlines\u001b[0m\u001b[1;33m.\u001b[0m\u001b[0mLine2D\u001b[0m\u001b[1;33m.\u001b[0m\u001b[0m_alias_map\u001b[0m\u001b[1;33m)\u001b[0m\u001b[1;33m\u001b[0m\u001b[1;33m\u001b[0m\u001b[0m\n\u001b[1;32m-> 1665\u001b[1;33m         \u001b[0mlines\u001b[0m \u001b[1;33m=\u001b[0m \u001b[1;33m[\u001b[0m\u001b[1;33m*\u001b[0m\u001b[0mself\u001b[0m\u001b[1;33m.\u001b[0m\u001b[0m_get_lines\u001b[0m\u001b[1;33m(\u001b[0m\u001b[1;33m*\u001b[0m\u001b[0margs\u001b[0m\u001b[1;33m,\u001b[0m \u001b[0mdata\u001b[0m\u001b[1;33m=\u001b[0m\u001b[0mdata\u001b[0m\u001b[1;33m,\u001b[0m \u001b[1;33m**\u001b[0m\u001b[0mkwargs\u001b[0m\u001b[1;33m)\u001b[0m\u001b[1;33m]\u001b[0m\u001b[1;33m\u001b[0m\u001b[1;33m\u001b[0m\u001b[0m\n\u001b[0m\u001b[0;32m   1666\u001b[0m         \u001b[1;32mfor\u001b[0m \u001b[0mline\u001b[0m \u001b[1;32min\u001b[0m \u001b[0mlines\u001b[0m\u001b[1;33m:\u001b[0m\u001b[1;33m\u001b[0m\u001b[1;33m\u001b[0m\u001b[0m\n\u001b[0;32m   1667\u001b[0m             \u001b[0mself\u001b[0m\u001b[1;33m.\u001b[0m\u001b[0madd_line\u001b[0m\u001b[1;33m(\u001b[0m\u001b[0mline\u001b[0m\u001b[1;33m)\u001b[0m\u001b[1;33m\u001b[0m\u001b[1;33m\u001b[0m\u001b[0m\n",
      "\u001b[1;32m~\\anaconda3\\lib\\site-packages\\matplotlib\\axes\\_base.py\u001b[0m in \u001b[0;36m__call__\u001b[1;34m(self, *args, **kwargs)\u001b[0m\n\u001b[0;32m    223\u001b[0m                 \u001b[0mthis\u001b[0m \u001b[1;33m+=\u001b[0m \u001b[0margs\u001b[0m\u001b[1;33m[\u001b[0m\u001b[1;36m0\u001b[0m\u001b[1;33m]\u001b[0m\u001b[1;33m,\u001b[0m\u001b[1;33m\u001b[0m\u001b[1;33m\u001b[0m\u001b[0m\n\u001b[0;32m    224\u001b[0m                 \u001b[0margs\u001b[0m \u001b[1;33m=\u001b[0m \u001b[0margs\u001b[0m\u001b[1;33m[\u001b[0m\u001b[1;36m1\u001b[0m\u001b[1;33m:\u001b[0m\u001b[1;33m]\u001b[0m\u001b[1;33m\u001b[0m\u001b[1;33m\u001b[0m\u001b[0m\n\u001b[1;32m--> 225\u001b[1;33m             \u001b[1;32myield\u001b[0m \u001b[1;32mfrom\u001b[0m \u001b[0mself\u001b[0m\u001b[1;33m.\u001b[0m\u001b[0m_plot_args\u001b[0m\u001b[1;33m(\u001b[0m\u001b[0mthis\u001b[0m\u001b[1;33m,\u001b[0m \u001b[0mkwargs\u001b[0m\u001b[1;33m)\u001b[0m\u001b[1;33m\u001b[0m\u001b[1;33m\u001b[0m\u001b[0m\n\u001b[0m\u001b[0;32m    226\u001b[0m \u001b[1;33m\u001b[0m\u001b[0m\n\u001b[0;32m    227\u001b[0m     \u001b[1;32mdef\u001b[0m \u001b[0mget_next_color\u001b[0m\u001b[1;33m(\u001b[0m\u001b[0mself\u001b[0m\u001b[1;33m)\u001b[0m\u001b[1;33m:\u001b[0m\u001b[1;33m\u001b[0m\u001b[1;33m\u001b[0m\u001b[0m\n",
      "\u001b[1;32m~\\anaconda3\\lib\\site-packages\\matplotlib\\axes\\_base.py\u001b[0m in \u001b[0;36m_plot_args\u001b[1;34m(self, tup, kwargs)\u001b[0m\n\u001b[0;32m    389\u001b[0m             \u001b[0mx\u001b[0m\u001b[1;33m,\u001b[0m \u001b[0my\u001b[0m \u001b[1;33m=\u001b[0m \u001b[0mindex_of\u001b[0m\u001b[1;33m(\u001b[0m\u001b[0mtup\u001b[0m\u001b[1;33m[\u001b[0m\u001b[1;33m-\u001b[0m\u001b[1;36m1\u001b[0m\u001b[1;33m]\u001b[0m\u001b[1;33m)\u001b[0m\u001b[1;33m\u001b[0m\u001b[1;33m\u001b[0m\u001b[0m\n\u001b[0;32m    390\u001b[0m \u001b[1;33m\u001b[0m\u001b[0m\n\u001b[1;32m--> 391\u001b[1;33m         \u001b[0mx\u001b[0m\u001b[1;33m,\u001b[0m \u001b[0my\u001b[0m \u001b[1;33m=\u001b[0m \u001b[0mself\u001b[0m\u001b[1;33m.\u001b[0m\u001b[0m_xy_from_xy\u001b[0m\u001b[1;33m(\u001b[0m\u001b[0mx\u001b[0m\u001b[1;33m,\u001b[0m \u001b[0my\u001b[0m\u001b[1;33m)\u001b[0m\u001b[1;33m\u001b[0m\u001b[1;33m\u001b[0m\u001b[0m\n\u001b[0m\u001b[0;32m    392\u001b[0m \u001b[1;33m\u001b[0m\u001b[0m\n\u001b[0;32m    393\u001b[0m         \u001b[1;32mif\u001b[0m \u001b[0mself\u001b[0m\u001b[1;33m.\u001b[0m\u001b[0mcommand\u001b[0m \u001b[1;33m==\u001b[0m \u001b[1;34m'plot'\u001b[0m\u001b[1;33m:\u001b[0m\u001b[1;33m\u001b[0m\u001b[1;33m\u001b[0m\u001b[0m\n",
      "\u001b[1;32m~\\anaconda3\\lib\\site-packages\\matplotlib\\axes\\_base.py\u001b[0m in \u001b[0;36m_xy_from_xy\u001b[1;34m(self, x, y)\u001b[0m\n\u001b[0;32m    268\u001b[0m         \u001b[1;32mif\u001b[0m \u001b[0mx\u001b[0m\u001b[1;33m.\u001b[0m\u001b[0mshape\u001b[0m\u001b[1;33m[\u001b[0m\u001b[1;36m0\u001b[0m\u001b[1;33m]\u001b[0m \u001b[1;33m!=\u001b[0m \u001b[0my\u001b[0m\u001b[1;33m.\u001b[0m\u001b[0mshape\u001b[0m\u001b[1;33m[\u001b[0m\u001b[1;36m0\u001b[0m\u001b[1;33m]\u001b[0m\u001b[1;33m:\u001b[0m\u001b[1;33m\u001b[0m\u001b[1;33m\u001b[0m\u001b[0m\n\u001b[0;32m    269\u001b[0m             raise ValueError(\"x and y must have same first dimension, but \"\n\u001b[1;32m--> 270\u001b[1;33m                              \"have shapes {} and {}\".format(x.shape, y.shape))\n\u001b[0m\u001b[0;32m    271\u001b[0m         \u001b[1;32mif\u001b[0m \u001b[0mx\u001b[0m\u001b[1;33m.\u001b[0m\u001b[0mndim\u001b[0m \u001b[1;33m>\u001b[0m \u001b[1;36m2\u001b[0m \u001b[1;32mor\u001b[0m \u001b[0my\u001b[0m\u001b[1;33m.\u001b[0m\u001b[0mndim\u001b[0m \u001b[1;33m>\u001b[0m \u001b[1;36m2\u001b[0m\u001b[1;33m:\u001b[0m\u001b[1;33m\u001b[0m\u001b[1;33m\u001b[0m\u001b[0m\n\u001b[0;32m    272\u001b[0m             raise ValueError(\"x and y can be no greater than 2-D, but have \"\n",
      "\u001b[1;31mValueError\u001b[0m: x and y must have same first dimension, but have shapes (1,) and (104,)"
     ]
    },
    {
     "data": {
      "image/png": "[encoded data removed]",
      "text/plain": [
       "<Figure size 648x432 with 1 Axes>"
      ]
     },
     "metadata": {
      "needs_background": "light"
     },
     "output_type": "display_data"
    }
   ],
   "source": [
    "fig, ax = plt.subplots(figsize=(9,6))\n",
    "plt.style.use('fivethirtyeight')\n",
    "ax.plot(y_test, y_hat)\n",
    "\n",
    "ax.fill_between(y_test, y_hat, 0, alpha=0.3, color='blue')\n",
    "ax.fill_between(y_test, y_hat,0, alpha=0.1, color='black')\n",
    "ax.set_xlim([-4,4])\n",
    "ax.set_xlabel('# of Standard Deviations Outside the Mean')\n",
    "ax.set_yticklabels([])\n",
    "ax.set_title('Normal Gaussian Curve')\n",
    "\n",
    "plt.savefig('normal_curve.png', dpi=72, bbox_inches='tight')\n",
    "plt.show()"
   ]
  },
  {
   "cell_type": "code",
   "execution_count": null,
   "metadata": {},
   "outputs": [],
   "source": []
  }
 ],
 "metadata": {
  "kernelspec": {
   "display_name": "Python 3",
   "language": "python",
   "name": "python3"
  },
  "language_info": {
   "codemirror_mode": {
    "name": "ipython",
    "version": 3
   },
   "file_extension": ".py",
   "mimetype": "text/x-python",
   "name": "python",
   "nbconvert_exporter": "python",
   "pygments_lexer": "ipython3",
   "version": "3.7.6"
  }
 },
 "nbformat": 4,
 "nbformat_minor": 4
}
